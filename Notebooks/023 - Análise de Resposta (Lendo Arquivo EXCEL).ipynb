{
 "cells": [
  {
   "cell_type": "code",
   "execution_count": 1,
   "metadata": {
    "colab": {
     "base_uri": "https://localhost:8080/"
    },
    "id": "P1zyUOcM_giB",
    "outputId": "ed62b1b9-514a-4fd1-f932-e22cf3a73487"
   },
   "outputs": [
    {
     "name": "stdout",
     "output_type": "stream",
     "text": [
      "Defaulting to user installation because normal site-packages is not writeable\n",
      "Requirement already satisfied: control in c:\\users\\nicol\\appdata\\roaming\\python\\python38\\site-packages (0.9.3.post2)\n",
      "Requirement already satisfied: matplotlib in c:\\programdata\\anaconda3\\envs\\tf2\\lib\\site-packages (from control) (3.4.3)\n",
      "Requirement already satisfied: numpy in c:\\programdata\\anaconda3\\envs\\tf2\\lib\\site-packages (from control) (1.22.4)\n",
      "Requirement already satisfied: scipy>=1.3 in c:\\programdata\\anaconda3\\envs\\tf2\\lib\\site-packages (from control) (1.7.3)\n",
      "Requirement already satisfied: cycler>=0.10 in c:\\programdata\\anaconda3\\envs\\tf2\\lib\\site-packages (from matplotlib->control) (0.11.0)\n",
      "Requirement already satisfied: pillow>=6.2.0 in c:\\programdata\\anaconda3\\envs\\tf2\\lib\\site-packages (from matplotlib->control) (8.3.2)\n",
      "Requirement already satisfied: kiwisolver>=1.0.1 in c:\\programdata\\anaconda3\\envs\\tf2\\lib\\site-packages (from matplotlib->control) (1.4.4)\n",
      "Requirement already satisfied: pyparsing>=2.2.1 in c:\\programdata\\anaconda3\\envs\\tf2\\lib\\site-packages (from matplotlib->control) (3.0.9)\n",
      "Requirement already satisfied: python-dateutil>=2.7 in c:\\programdata\\anaconda3\\envs\\tf2\\lib\\site-packages (from matplotlib->control) (2.8.2)\n",
      "Requirement already satisfied: six>=1.5 in c:\\programdata\\anaconda3\\envs\\tf2\\lib\\site-packages (from python-dateutil>=2.7->matplotlib->control) (1.15.0)\n",
      "Note: you may need to restart the kernel to use updated packages.\n"
     ]
    }
   ],
   "source": [
    "pip install control"
   ]
  },
  {
   "cell_type": "code",
   "execution_count": 2,
   "metadata": {},
   "outputs": [],
   "source": [
    "import numpy as np\n",
    "import pandas as pd\n",
    "import control\n",
    "import matplotlib.pyplot as plt\n",
    "from scipy.signal import find_peaks"
   ]
  },
  {
   "cell_type": "code",
   "execution_count": 3,
   "metadata": {},
   "outputs": [],
   "source": [
    "# Define transfer function of the system\n",
    "s = control.tf('s')"
   ]
  },
  {
   "cell_type": "markdown",
   "metadata": {},
   "source": [
    "## Read Excel Data"
   ]
  },
  {
   "cell_type": "code",
   "execution_count": 4,
   "metadata": {},
   "outputs": [],
   "source": [
    "df = pd.read_excel('System Analysis.xlsx')"
   ]
  },
  {
   "cell_type": "code",
   "execution_count": 5,
   "metadata": {},
   "outputs": [],
   "source": [
    "t = df.iloc[:, :-1].values\n",
    "y = df.iloc[:, -1].values"
   ]
  },
  {
   "cell_type": "markdown",
   "metadata": {},
   "source": [
    "## Peak Analysis"
   ]
  },
  {
   "cell_type": "code",
   "execution_count": 6,
   "metadata": {},
   "outputs": [
    {
     "data": {
      "image/png": "[encoded data removed]",
      "text/plain": [
       "<Figure size 640x480 with 1 Axes>"
      ]
     },
     "metadata": {},
     "output_type": "display_data"
    }
   ],
   "source": [
    "# Plot step response\n",
    "plt.plot(t, y)\n",
    "plt.xlabel('Time (s)')\n",
    "plt.ylabel('Output')\n",
    "plt.title('System Step Response')\n",
    "plt.grid()\n",
    "plt.show()"
   ]
  },
  {
   "cell_type": "markdown",
   "metadata": {},
   "source": [
    "## Performs Complete Analysis of the Closed Loop Response"
   ]
  },
  {
   "cell_type": "code",
   "execution_count": 7,
   "metadata": {},
   "outputs": [],
   "source": [
    "def step_response_parameters(t, y):\n",
    "    overshoot = np.max(y)\n",
    "    overshoot\n",
    "    \n",
    "    # Find the index of the first value equal to overshoot\n",
    "    idx_peak = np.argwhere(y == overshoot).flatten()[0]\n",
    "    \n",
    "    # Find the index of the first value greater than or equal 90% of last value\n",
    "    idx_rise_90 = np.argwhere(y >= 0.9*y[-1]).flatten()[0]\n",
    "    \n",
    "    # Find the index of the first value greater than or equal 10% of last value\n",
    "    idx_rise_10 = np.argwhere(y >= 0.1*y[-1]).flatten()[0]\n",
    "    \n",
    "    rise_time = (t[idx_rise_90] - t[idx_rise_10]).flatten()[0]\n",
    "    settling_time = (t[-1] - t[idx_rise_90]).flatten()[0]\n",
    "    settling_min = np.min(y[idx_peak:])\n",
    "    settling_max = np.max(y[idx_peak:])\n",
    "    \n",
    "    overshoot = ((settling_max  - y[-1])/y[-1]) * 100\n",
    "    undershoot = ((y[-1] - settling_min)/y[-1]) * 100\n",
    "    peak = (y[idx_peak]).flatten()[0]\n",
    "    peak_time = (t[idx_peak]).flatten()[0]\n",
    "    \n",
    "    print(\"Rise time: {:.2f} s\".format(rise_time))\n",
    "    print(\"Settling time: {:.2f} s\".format(settling_time))\n",
    "    print(\"Settling minimum: {:.2f}\".format(settling_min))\n",
    "    print(\"Settling maximum: {:.2f}\".format(settling_max))\n",
    "    print(\"Overshoot: {:.2f}%\".format(overshoot))\n",
    "    print(\"Undershoot: {:.2f}%\".format(undershoot))\n",
    "    print(\"Peak: {:.2f}\".format(peak))\n",
    "    print(\"Peak time: {:.2f} s\".format(peak_time))\n",
    "\n",
    "    return rise_time, settling_time, settling_min, settling_max, overshoot, undershoot, peak, peak_time"
   ]
  },
  {
   "cell_type": "code",
   "execution_count": 8,
   "metadata": {},
   "outputs": [
    {
     "name": "stdout",
     "output_type": "stream",
     "text": [
      "Rise time: 336.00 s\n",
      "Settling time: 2091.00 s\n",
      "Settling minimum: 0.97\n",
      "Settling maximum: 1.21\n",
      "Overshoot: 20.68%\n",
      "Undershoot: 2.99%\n",
      "Peak: 1.21\n",
      "Peak time: 728.00 s\n"
     ]
    }
   ],
   "source": [
    "rise_time, settling_time, settling_min, settling_max, overshoot, undershoot, peak, peak_time = step_response_parameters(t,y)"
   ]
  },
  {
   "cell_type": "code",
   "execution_count": null,
   "metadata": {},
   "outputs": [],
   "source": []
  }
 ],
 "metadata": {
  "colab": {
   "provenance": []
  },
  "hide_input": false,
  "kernelspec": {
   "display_name": "Python 3 (ipykernel)",
   "language": "python",
   "name": "python3"
  },
  "language_info": {
   "codemirror_mode": {
    "name": "ipython",
    "version": 3
   },
   "file_extension": ".py",
   "mimetype": "text/x-python",
   "name": "python",
   "nbconvert_exporter": "python",
   "pygments_lexer": "ipython3",
   "version": "3.9.16"
  }
 },
 "nbformat": 4,
 "nbformat_minor": 1
}
