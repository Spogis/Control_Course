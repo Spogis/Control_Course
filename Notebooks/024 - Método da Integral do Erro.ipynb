{
 "cells": [
  {
   "cell_type": "markdown",
   "metadata": {},
   "source": [
    "# Método da integral do erro"
   ]
  },
  {
   "cell_type": "code",
   "execution_count": 1,
   "metadata": {
    "colab": {
     "base_uri": "https://localhost:8080/"
    },
    "id": "P1zyUOcM_giB",
    "outputId": "ed62b1b9-514a-4fd1-f932-e22cf3a73487"
   },
   "outputs": [
    {
     "name": "stdout",
     "output_type": "stream",
     "text": [
      "Defaulting to user installation because normal site-packages is not writeable\n",
      "Requirement already satisfied: control in c:\\users\\nicol\\appdata\\roaming\\python\\python38\\site-packages (0.9.3.post2)\n",
      "Requirement already satisfied: numpy in c:\\programdata\\anaconda3\\envs\\tf2\\lib\\site-packages (from control) (1.22.4)\n",
      "Requirement already satisfied: matplotlib in c:\\programdata\\anaconda3\\envs\\tf2\\lib\\site-packages (from control) (3.4.3)\n",
      "Requirement already satisfied: scipy>=1.3 in c:\\programdata\\anaconda3\\envs\\tf2\\lib\\site-packages (from control) (1.7.3)\n",
      "Requirement already satisfied: pyparsing>=2.2.1 in c:\\programdata\\anaconda3\\envs\\tf2\\lib\\site-packages (from matplotlib->control) (3.0.9)\n",
      "Requirement already satisfied: python-dateutil>=2.7 in c:\\programdata\\anaconda3\\envs\\tf2\\lib\\site-packages (from matplotlib->control) (2.8.2)\n",
      "Requirement already satisfied: cycler>=0.10 in c:\\programdata\\anaconda3\\envs\\tf2\\lib\\site-packages (from matplotlib->control) (0.11.0)\n",
      "Requirement already satisfied: kiwisolver>=1.0.1 in c:\\programdata\\anaconda3\\envs\\tf2\\lib\\site-packages (from matplotlib->control) (1.4.4)\n",
      "Requirement already satisfied: pillow>=6.2.0 in c:\\programdata\\anaconda3\\envs\\tf2\\lib\\site-packages (from matplotlib->control) (8.3.2)\n",
      "Requirement already satisfied: six>=1.5 in c:\\programdata\\anaconda3\\envs\\tf2\\lib\\site-packages (from python-dateutil>=2.7->matplotlib->control) (1.15.0)\n",
      "Note: you may need to restart the kernel to use updated packages.\n"
     ]
    }
   ],
   "source": [
    "pip install control"
   ]
  },
  {
   "cell_type": "code",
   "execution_count": 2,
   "metadata": {
    "id": "WeCHa6Aj_niZ"
   },
   "outputs": [],
   "source": [
    "import control\n",
    "import matplotlib.pyplot as plt\n",
    "import math\n",
    "import pandas as pd\n",
    "import numpy as np"
   ]
  },
  {
   "cell_type": "code",
   "execution_count": 3,
   "metadata": {},
   "outputs": [],
   "source": [
    "# Define transfer function of the system\n",
    "s = control.tf('s')"
   ]
  },
  {
   "cell_type": "markdown",
   "metadata": {},
   "source": [
    "## Process"
   ]
  },
  {
   "cell_type": "code",
   "execution_count": 4,
   "metadata": {},
   "outputs": [],
   "source": [
    "Kp= 26.431820859167672\n",
    "Tau= 984.0594888279699\n",
    "Delay= 99.29375000395189"
   ]
  },
  {
   "cell_type": "code",
   "execution_count": 5,
   "metadata": {
    "id": "KzWHyxsK_xpP"
   },
   "outputs": [
    {
     "data": {
      "text/latex": [
       "$$\\frac{26.43}{984.1 s + 1}$$"
      ],
      "text/plain": [
       "TransferFunction(array([26.43182086]), array([984.05948883,   1.        ]))"
      ]
     },
     "execution_count": 5,
     "metadata": {},
     "output_type": "execute_result"
    }
   ],
   "source": [
    "sys  = Kp/(Tau*s + 1)\n",
    "sys"
   ]
  },
  {
   "cell_type": "markdown",
   "metadata": {
    "id": "BObefGjRBwPx"
   },
   "source": [
    "## Second Order Pade Approximation / Dead Time"
   ]
  },
  {
   "cell_type": "code",
   "execution_count": 6,
   "metadata": {},
   "outputs": [
    {
     "data": {
      "text/latex": [
       "$$\\frac{0.0002029}{s^2 + 0.02014 s + 0.0002029}$$"
      ],
      "text/plain": [
       "TransferFunction(array([0.00020286]), array([1.00000000e+00, 2.01422547e-02, 2.02855212e-04]))"
      ]
     },
     "execution_count": 6,
     "metadata": {},
     "output_type": "execute_result"
    }
   ],
   "source": [
    "num, den = control.pade(Delay, n=2, numdeg=0)\n",
    "Pade = control.tf(num, den)\n",
    "Pade"
   ]
  },
  {
   "cell_type": "markdown",
   "metadata": {},
   "source": [
    "## FOPDT"
   ]
  },
  {
   "cell_type": "code",
   "execution_count": 7,
   "metadata": {},
   "outputs": [
    {
     "data": {
      "text/latex": [
       "$$\\frac{0.005362}{984.1 s^3 + 20.82 s^2 + 0.2198 s + 0.0002029}$$"
      ],
      "text/plain": [
       "TransferFunction(array([0.00536183]), array([9.84059489e+02, 2.08211768e+01, 2.19763851e-01, 2.02855212e-04]))"
      ]
     },
     "execution_count": 7,
     "metadata": {},
     "output_type": "execute_result"
    }
   ],
   "source": [
    "FOPDT = control.series(sys, Pade)\n",
    "FOPDT"
   ]
  },
  {
   "cell_type": "code",
   "execution_count": 8,
   "metadata": {},
   "outputs": [],
   "source": [
    "# Simulate step response\n",
    "t, y = control.step_response(FOPDT)"
   ]
  },
  {
   "cell_type": "code",
   "execution_count": 9,
   "metadata": {
    "colab": {
     "base_uri": "https://localhost:8080/",
     "height": 295
    },
    "id": "AvRIgSBwBwWH",
    "outputId": "dd39c7b1-164f-437d-aab2-dc419af4639d"
   },
   "outputs": [
    {
     "data": {
      "image/png": "[encoded data removed]",
      "text/plain": [
       "<Figure size 640x480 with 1 Axes>"
      ]
     },
     "metadata": {},
     "output_type": "display_data"
    }
   ],
   "source": [
    "# Plot step response\n",
    "plt.plot(t, y)\n",
    "plt.xlabel('Time (s)')\n",
    "plt.ylabel('Output')\n",
    "plt.title('FOPDT System Step Response')\n",
    "plt.grid()\n",
    "plt.show()"
   ]
  },
  {
   "cell_type": "markdown",
   "metadata": {},
   "source": [
    "## Lendo Tabela de constantes para sintonia do PID \n",
    "<br> Tabela de constantes para sintonia do PID pelo método da integral do erro.\n",
    "<br> Fonte: Campos e Teixeira (2010)."
   ]
  },
  {
   "cell_type": "code",
   "execution_count": 10,
   "metadata": {},
   "outputs": [],
   "source": [
    "Caso = 'Caso Servo'\n",
    "#Caso = 'Caso Regulador'"
   ]
  },
  {
   "cell_type": "code",
   "execution_count": 11,
   "metadata": {},
   "outputs": [],
   "source": [
    "df = pd.read_excel('Tabela de constantes para sintonia do PID.xlsx', sheet_name=Caso)"
   ]
  },
  {
   "cell_type": "code",
   "execution_count": 12,
   "metadata": {},
   "outputs": [
    {
     "data": {
      "text/html": [
       "<div>\n",
       "<style scoped>\n",
       "    .dataframe tbody tr th:only-of-type {\n",
       "        vertical-align: middle;\n",
       "    }\n",
       "\n",
       "    .dataframe tbody tr th {\n",
       "        vertical-align: top;\n",
       "    }\n",
       "\n",
       "    .dataframe thead th {\n",
       "        text-align: right;\n",
       "    }\n",
       "</style>\n",
       "<table border=\"1\" class=\"dataframe\">\n",
       "  <thead>\n",
       "    <tr style=\"text-align: right;\">\n",
       "      <th></th>\n",
       "      <th>Controlador</th>\n",
       "      <th>Critério</th>\n",
       "      <th>A</th>\n",
       "      <th>B</th>\n",
       "      <th>C</th>\n",
       "      <th>D</th>\n",
       "      <th>E</th>\n",
       "      <th>F</th>\n",
       "    </tr>\n",
       "  </thead>\n",
       "  <tbody>\n",
       "    <tr>\n",
       "      <th>0</th>\n",
       "      <td>PI</td>\n",
       "      <td>IAE</td>\n",
       "      <td>0.758</td>\n",
       "      <td>0.861</td>\n",
       "      <td>1.020</td>\n",
       "      <td>-0.323</td>\n",
       "      <td>-</td>\n",
       "      <td>-</td>\n",
       "    </tr>\n",
       "    <tr>\n",
       "      <th>1</th>\n",
       "      <td>PI</td>\n",
       "      <td>ITAE</td>\n",
       "      <td>0.586</td>\n",
       "      <td>-0.916</td>\n",
       "      <td>1.030</td>\n",
       "      <td>-0.165</td>\n",
       "      <td>-</td>\n",
       "      <td>-</td>\n",
       "    </tr>\n",
       "    <tr>\n",
       "      <th>2</th>\n",
       "      <td>PID</td>\n",
       "      <td>IAE</td>\n",
       "      <td>1.086</td>\n",
       "      <td>-0.869</td>\n",
       "      <td>0.740</td>\n",
       "      <td>-0.130</td>\n",
       "      <td>0.348</td>\n",
       "      <td>0.914</td>\n",
       "    </tr>\n",
       "    <tr>\n",
       "      <th>3</th>\n",
       "      <td>PID</td>\n",
       "      <td>ITAE</td>\n",
       "      <td>0.965</td>\n",
       "      <td>-0.850</td>\n",
       "      <td>0.796</td>\n",
       "      <td>-0.147</td>\n",
       "      <td>0.308</td>\n",
       "      <td>0.929</td>\n",
       "    </tr>\n",
       "  </tbody>\n",
       "</table>\n",
       "</div>"
      ],
      "text/plain": [
       "  Controlador Critério      A      B      C      D      E      F\n",
       "0          PI      IAE  0.758  0.861  1.020 -0.323      -      -\n",
       "1          PI     ITAE  0.586 -0.916  1.030 -0.165      -      -\n",
       "2         PID      IAE  1.086 -0.869  0.740 -0.130  0.348  0.914\n",
       "3         PID     ITAE  0.965 -0.850  0.796 -0.147  0.308  0.929"
      ]
     },
     "execution_count": 12,
     "metadata": {},
     "output_type": "execute_result"
    }
   ],
   "source": [
    "df"
   ]
  },
  {
   "cell_type": "code",
   "execution_count": 13,
   "metadata": {},
   "outputs": [],
   "source": [
    "Controlador = 'PID'"
   ]
  },
  {
   "cell_type": "code",
   "execution_count": 14,
   "metadata": {},
   "outputs": [],
   "source": [
    "Criterio = 'ITAE'"
   ]
  },
  {
   "cell_type": "code",
   "execution_count": 15,
   "metadata": {},
   "outputs": [],
   "source": [
    "A = df[(df['Controlador']==Controlador)&((df['Critério']==Criterio))]['A'].values[0]\n",
    "B = df[(df['Controlador']==Controlador)&((df['Critério']==Criterio))]['B'].values[0]\n",
    "C = df[(df['Controlador']==Controlador)&((df['Critério']==Criterio))]['C'].values[0]\n",
    "D = df[(df['Controlador']==Controlador)&((df['Critério']==Criterio))]['D'].values[0]\n",
    "E = df[(df['Controlador']==Controlador)&((df['Critério']==Criterio))]['E'].values[0]\n",
    "F = df[(df['Controlador']==Controlador)&((df['Critério']==Criterio))]['F'].values[0]"
   ]
  },
  {
   "cell_type": "code",
   "execution_count": 16,
   "metadata": {},
   "outputs": [],
   "source": [
    "Kc = (A/Kp)*((Delay/Tau)**(B))"
   ]
  },
  {
   "cell_type": "code",
   "execution_count": 17,
   "metadata": {},
   "outputs": [],
   "source": [
    "ti= Tau/(C + D*(Delay/Tau))"
   ]
  },
  {
   "cell_type": "code",
   "execution_count": 18,
   "metadata": {},
   "outputs": [],
   "source": [
    "if type(E) == int or float:\n",
    "    td = Tau * (E*((Delay/Tau)**F))\n",
    "else:\n",
    "    td = 0"
   ]
  },
  {
   "cell_type": "code",
   "execution_count": 19,
   "metadata": {},
   "outputs": [
    {
     "name": "stdout",
     "output_type": "stream",
     "text": [
      "Kc = 0.26\n",
      "ti = 1259.73s\n",
      "td = 35.99s\n"
     ]
    }
   ],
   "source": [
    "print(\"Kc = {:.2f}\".format(Kc))\n",
    "print(\"ti = {:.2f}s\".format(ti))\n",
    "print(\"td = {:.2f}s\".format(td))"
   ]
  },
  {
   "cell_type": "code",
   "execution_count": 20,
   "metadata": {},
   "outputs": [],
   "source": [
    "# Define transfer function of the PID Controller\n",
    "Controller = Kc*(1 + (1/(ti*s)) + (td*s))"
   ]
  },
  {
   "cell_type": "markdown",
   "metadata": {},
   "source": [
    "### Open Loop"
   ]
  },
  {
   "cell_type": "code",
   "execution_count": 21,
   "metadata": {},
   "outputs": [],
   "source": [
    "Sys_Control = control.series(Controller, FOPDT)"
   ]
  },
  {
   "cell_type": "markdown",
   "metadata": {},
   "source": [
    "### Closed Loop"
   ]
  },
  {
   "cell_type": "code",
   "execution_count": 22,
   "metadata": {},
   "outputs": [],
   "source": [
    "# Create closed-loop system\n",
    "cl_sys = control.feedback(Sys_Control, 1, sign=-1)"
   ]
  },
  {
   "cell_type": "code",
   "execution_count": 23,
   "metadata": {},
   "outputs": [],
   "source": [
    "# Simulate step response\n",
    "t, y = control.step_response(cl_sys)"
   ]
  },
  {
   "cell_type": "code",
   "execution_count": 24,
   "metadata": {},
   "outputs": [
    {
     "data": {
      "image/png": "[encoded data removed]",
      "text/plain": [
       "<Figure size 640x480 with 1 Axes>"
      ]
     },
     "metadata": {},
     "output_type": "display_data"
    }
   ],
   "source": [
    "# Plot step response\n",
    "plt.figure(1)\n",
    "plt.plot(t, y)\n",
    "plt.xlabel('Time (s)')\n",
    "plt.ylabel('Output')\n",
    "plt.suptitle('Step response of ' + Controlador + ' - ' + Criterio + ' Tuning')\n",
    "plt.title(Caso)\n",
    "plt.grid()\n",
    "plt.show()"
   ]
  },
  {
   "cell_type": "markdown",
   "metadata": {},
   "source": [
    "## Shade Error - Integral Absolute Error (IAE)"
   ]
  },
  {
   "cell_type": "code",
   "execution_count": 25,
   "metadata": {},
   "outputs": [],
   "source": [
    "y2 = np.ones(len(t))"
   ]
  },
  {
   "cell_type": "code",
   "execution_count": 26,
   "metadata": {},
   "outputs": [
    {
     "data": {
      "image/png": "[encoded data removed]",
      "text/plain": [
       "<Figure size 640x480 with 1 Axes>"
      ]
     },
     "metadata": {},
     "output_type": "display_data"
    }
   ],
   "source": [
    "plt.figure(2)\n",
    "plt.plot(t, y, label='Step Response')\n",
    "plt.plot(t, y2, label='Ideal Response')\n",
    "\n",
    "plt.fill_between(t, y, y2, where=(y <= y2), color='gray', alpha=0.2)\n",
    "plt.fill_between(t, y, y2, where=(y2 <= y), color='gray', alpha=0.2)\n",
    "\n",
    "plt.xlabel('Time (s)')\n",
    "plt.ylabel('Output')\n",
    "plt.suptitle('Step response of ' + Controlador + ' - ' + Criterio + ' Tuning')\n",
    "plt.title('IAE - Integral Absolute Error')\n",
    "plt.grid()\n",
    "plt.show()"
   ]
  },
  {
   "cell_type": "code",
   "execution_count": null,
   "metadata": {},
   "outputs": [],
   "source": []
  }
 ],
 "metadata": {
  "colab": {
   "provenance": []
  },
  "hide_input": false,
  "kernelspec": {
   "display_name": "Python 3 (ipykernel)",
   "language": "python",
   "name": "python3"
  },
  "language_info": {
   "codemirror_mode": {
    "name": "ipython",
    "version": 3
   },
   "file_extension": ".py",
   "mimetype": "text/x-python",
   "name": "python",
   "nbconvert_exporter": "python",
   "pygments_lexer": "ipython3",
   "version": "3.8.15"
  }
 },
 "nbformat": 4,
 "nbformat_minor": 1
}
