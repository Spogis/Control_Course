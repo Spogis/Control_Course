{
 "cells": [
  {
   "cell_type": "code",
   "execution_count": 1,
   "id": "25769c08",
   "metadata": {},
   "outputs": [],
   "source": [
    "import numpy as np\n",
    "import pandas as pd\n",
    "import ipywidgets as widgets"
   ]
  },
  {
   "cell_type": "markdown",
   "id": "1776f6b3",
   "metadata": {},
   "source": [
    "## Calculadora de Constantes PID"
   ]
  },
  {
   "cell_type": "code",
   "execution_count": 2,
   "id": "8a3695ac",
   "metadata": {},
   "outputs": [
    {
     "name": "stdout",
     "output_type": "stream",
     "text": [
      "Qual o ganho do Processo (Kp): 6\n",
      "Qual a constante de Tempo do Processo (Tau): 39\n",
      "Qual o Delay do Processo (Delay): 37\n"
     ]
    }
   ],
   "source": [
    "Kp = float(input(\"Qual o ganho do Processo (Kp): \"))\n",
    "Tau = float(input(\"Qual a constante de Tempo do Processo (Tau): \"))\n",
    "Delay = float(input(\"Qual o Delay do Processo (Delay): \"))"
   ]
  },
  {
   "cell_type": "markdown",
   "id": "83b0281c",
   "metadata": {},
   "source": [
    "## Lê arquivo com equações das constantes do controlador <br>PID para os métodos de sintonia"
   ]
  },
  {
   "cell_type": "code",
   "execution_count": 3,
   "id": "cb0e2348",
   "metadata": {},
   "outputs": [],
   "source": [
    "df = pd.read_excel('TabelaCalculadoraPID.xlsx', sheet_name='Tabela Geral')\n",
    "df.set_index(df.columns[0], inplace=True)"
   ]
  },
  {
   "cell_type": "code",
   "execution_count": 4,
   "id": "3874ceb2",
   "metadata": {},
   "outputs": [],
   "source": [
    "df_constantes = pd.read_excel('TabelaCalculadoraPID.xlsx', sheet_name='Integral do Erro')\n",
    "df_constantes.set_index(df_constantes.columns[0], inplace=True)"
   ]
  },
  {
   "cell_type": "markdown",
   "id": "3e63df40",
   "metadata": {},
   "source": [
    "### Seleção do Método de Sintonia"
   ]
  },
  {
   "cell_type": "code",
   "execution_count": 5,
   "id": "106df51b",
   "metadata": {},
   "outputs": [],
   "source": [
    "Fi = Delay/Tau\n",
    "df = df.loc[(df['Fi Min'] <= Fi) & (df['Fi Max'] >= Fi)]"
   ]
  },
  {
   "cell_type": "code",
   "execution_count": 6,
   "id": "44e0c02f",
   "metadata": {},
   "outputs": [],
   "source": [
    "def Calculate_PID_Parameters(change):\n",
    "    if dropdown.value == 'Integral de Erro (Servo)' or dropdown.value == 'Integral de Erro (Regulatório)':  \n",
    "        A = df_constantes.at[dropdown.value, 'A']\n",
    "        B = df_constantes.at[dropdown.value, 'B']\n",
    "        C = df_constantes.at[dropdown.value, 'C']\n",
    "        D = df_constantes.at[dropdown.value, 'D']\n",
    "        E = df_constantes.at[dropdown.value, 'E']\n",
    "        F = df_constantes.at[dropdown.value, 'F']\n",
    "        \n",
    "    Kc_Formula = df.at[dropdown.value,'Kc']\n",
    "    ti_Formula = df.at[dropdown.value, 'ti']\n",
    "    td_Formula = df.at[dropdown.value, 'td']\n",
    "\n",
    "    Kc = eval(Kc_Formula)\n",
    "    ti = eval(ti_Formula)\n",
    "    td = eval(td_Formula)\n",
    "    \n",
    "    print('\\nMethod: ' + dropdown.value)\n",
    "    print(\"Fator de Incontrolabilidade = {:.2f}\".format(Fi))\n",
    "    print(\"Kc = {:.2f}\".format(Kc))\n",
    "    print(\"ti = {:.2f}\".format(ti))\n",
    "    print(\"td = {:.2f}\".format(td))\n",
    "    return"
   ]
  },
  {
   "cell_type": "code",
   "execution_count": 7,
   "id": "c03914d4",
   "metadata": {},
   "outputs": [
    {
     "name": "stdout",
     "output_type": "stream",
     "text": [
      "\n",
      "Dados do Processo (FOPDT):\n",
      "Kp = 6.00\n",
      "Tau = 39.00\n",
      "Delay = 37.00\n",
      "\n",
      "Method: Integral de Erro (Servo)\n",
      "Fator de Incontrolabilidade = 0.95\n",
      "Kc = 0.17\n",
      "ti = 59.40\n",
      "td = 11.44\n"
     ]
    },
    {
     "data": {
      "application/vnd.jupyter.widget-view+json": {
       "model_id": "9c7303f2c00c419bba1089403e47f322",
       "version_major": 2,
       "version_minor": 0
      },
      "text/plain": [
       "Dropdown(description='Método:', options=('Integral de Erro (Servo)', 'Integral de Erro (Regulatório)', 'Cohen-…"
      ]
     },
     "metadata": {},
     "output_type": "display_data"
    }
   ],
   "source": [
    "# Criar a caixa de seleção\n",
    "dropdown = widgets.Dropdown(options=list(df.index.values),\n",
    "                            description=\"Método:\"\n",
    "                           , value=list(df.index.values)[0])\n",
    "\n",
    "print('\\nDados do Processo (FOPDT):')\n",
    "print(\"Kp = {:.2f}\".format(Kp))\n",
    "print(\"Tau = {:.2f}\".format(Tau))\n",
    "print(\"Delay = {:.2f}\".format(Delay\n",
    "                             ))\n",
    "\n",
    "Calculate_PID_Parameters(list(df.index.values)[0])\n",
    "dropdown.observe(Calculate_PID_Parameters, names='value')\n",
    "\n",
    "display(dropdown)"
   ]
  },
  {
   "cell_type": "code",
   "execution_count": null,
   "id": "75533191",
   "metadata": {},
   "outputs": [],
   "source": []
  }
 ],
 "metadata": {
  "hide_input": false,
  "kernelspec": {
   "display_name": "Python 3 (ipykernel)",
   "language": "python",
   "name": "python3"
  },
  "language_info": {
   "codemirror_mode": {
    "name": "ipython",
    "version": 3
   },
   "file_extension": ".py",
   "mimetype": "text/x-python",
   "name": "python",
   "nbconvert_exporter": "python",
   "pygments_lexer": "ipython3",
   "version": "3.8.15"
  }
 },
 "nbformat": 4,
 "nbformat_minor": 5
}
