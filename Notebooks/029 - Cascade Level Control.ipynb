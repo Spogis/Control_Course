{
 "cells": [
  {
   "cell_type": "code",
   "execution_count": 1,
   "id": "c0f36e81",
   "metadata": {},
   "outputs": [],
   "source": [
    "pip install control"
   ]
  },
  {
   "cell_type": "code",
   "execution_count": 2,
   "id": "fd0731c7",
   "metadata": {},
   "outputs": [],
   "source": [
    "import control\n",
    "import matplotlib.pyplot as plt\n",
    "import numpy as np"
   ]
  },
  {
   "cell_type": "code",
   "execution_count": 3,
   "id": "cc395929",
   "metadata": {},
   "outputs": [],
   "source": [
    "# Define transfer function of the system\n",
    "s = control.tf('s')"
   ]
  },
  {
   "cell_type": "markdown",
   "id": "92685185",
   "metadata": {},
   "source": [
    "<h1>Single Loop Level Control</h1>\n",
    "<div>\n",
    "<img src='https://drive.google.com/uc?export=view&id=1KnRCqpKn4ligNd9ZzWYzbRWGYL1JEjTs' width=\"500\" align=\"left\"/>\n",
    "</div>   \n"
   ]
  },
  {
   "cell_type": "markdown",
   "id": "2b6b3250",
   "metadata": {},
   "source": [
    "<h1>Cascade Level Control</h1>\n",
    "<div>\n",
    "<img src='https://drive.google.com/uc?export=view&id=1f1cc2edIDHs-450Ed1wHQSkNWTEMFC5J' width=\"500\" align=\"left\"/>\n",
    "</div>  "
   ]
  },
  {
   "cell_type": "markdown",
   "id": "f34345d5",
   "metadata": {},
   "source": [
    "# Process"
   ]
  },
  {
   "cell_type": "code",
   "execution_count": 4,
   "id": "6b6f4ab3",
   "metadata": {},
   "outputs": [],
   "source": [
    "Kp_Process = 1.2\n",
    "Tau_Process = 40.0\n",
    "Delay_Process = 30.0"
   ]
  },
  {
   "cell_type": "code",
   "execution_count": 5,
   "id": "12066a5b",
   "metadata": {},
   "outputs": [],
   "source": [
    "G_Process = Kp_Process/(Tau_Process*s+1)"
   ]
  },
  {
   "cell_type": "code",
   "execution_count": 6,
   "id": "ec5c6c31",
   "metadata": {},
   "outputs": [],
   "source": [
    "num, den = control.pade(Delay_Process, n=2, numdeg=0)\n",
    "Pade_Process = control.tf(num, den)"
   ]
  },
  {
   "cell_type": "code",
   "execution_count": 7,
   "id": "3ce4d0b7",
   "metadata": {},
   "outputs": [],
   "source": [
    "FOPDT_Process = control.series(G_Process, Pade_Process)"
   ]
  },
  {
   "cell_type": "markdown",
   "id": "a7a47232",
   "metadata": {},
   "source": [
    "## Final Element"
   ]
  },
  {
   "cell_type": "code",
   "execution_count": 8,
   "id": "dd443ae1",
   "metadata": {},
   "outputs": [],
   "source": [
    "K_Final_Element = 5.0\n",
    "Tau_Final_Element = 2.0\n",
    "Delay_Final_Element = 1.0"
   ]
  },
  {
   "cell_type": "code",
   "execution_count": 9,
   "id": "e0f9e90a",
   "metadata": {},
   "outputs": [],
   "source": [
    "G_Final_Element = K_Final_Element/(Tau_Final_Element*s+1)"
   ]
  },
  {
   "cell_type": "code",
   "execution_count": 10,
   "id": "dc0437ac",
   "metadata": {},
   "outputs": [],
   "source": [
    "num, den = control.pade(Delay_Final_Element, n=2, numdeg=0)\n",
    "Pade_Final_Element = control.tf(num, den)"
   ]
  },
  {
   "cell_type": "code",
   "execution_count": 11,
   "id": "1016e943",
   "metadata": {},
   "outputs": [],
   "source": [
    "FOPDT_Final_Element = control.series(G_Final_Element, Pade_Final_Element)"
   ]
  },
  {
   "cell_type": "markdown",
   "id": "afbf9858",
   "metadata": {},
   "source": [
    "<h1>Block Diagram</h1>\n",
    "<div>\n",
    "    <img src='https://drive.google.com/uc?export=view&id=1OC7AEIZSFVwUhZZbdNR0Ir8rC1kbujxz' width=\"500\" align=\"left\"/>\n",
    "</div>  "
   ]
  },
  {
   "cell_type": "markdown",
   "id": "a5505c45",
   "metadata": {},
   "source": [
    "In order to have an effective cascade control system, it is essential that the inner loop responds much faster than the outer loop."
   ]
  },
  {
   "cell_type": "markdown",
   "id": "372d10a6",
   "metadata": {},
   "source": [
    "## Master / Outer Controler -> Level"
   ]
  },
  {
   "cell_type": "code",
   "execution_count": 12,
   "id": "8b9a5580",
   "metadata": {},
   "outputs": [],
   "source": [
    "Kc_Master = 0.80\n",
    "ti_Master = 50.0\n",
    "td_Master = 10.0"
   ]
  },
  {
   "cell_type": "code",
   "execution_count": 13,
   "id": "ca651642",
   "metadata": {},
   "outputs": [],
   "source": [
    "# Define transfer function of the PID Controller\n",
    "Master_Control = Kc_Master*(1 + (1/(ti_Master*s)) + (td_Master*s))"
   ]
  },
  {
   "cell_type": "markdown",
   "id": "fc0938a4",
   "metadata": {},
   "source": [
    "## Cascade / Inner Controler -> Flow"
   ]
  },
  {
   "cell_type": "code",
   "execution_count": 14,
   "id": "eabd652b",
   "metadata": {},
   "outputs": [],
   "source": [
    "Kc_Cascade = 0.4\n",
    "ti_Cascade = 3.0\n",
    "td_Cascade = 0.3"
   ]
  },
  {
   "cell_type": "code",
   "execution_count": 15,
   "id": "f14a1521",
   "metadata": {},
   "outputs": [],
   "source": [
    "# Define transfer function of the PID Controller\n",
    "Cascade_Control = Kc_Cascade*(1 + (1/(ti_Cascade*s)) + (td_Cascade*s))"
   ]
  },
  {
   "cell_type": "markdown",
   "id": "c31d7ad1",
   "metadata": {},
   "source": [
    "## Inner Loop"
   ]
  },
  {
   "cell_type": "markdown",
   "id": "13de5769",
   "metadata": {},
   "source": [
    "### Cascade Controler * Final Element"
   ]
  },
  {
   "cell_type": "code",
   "execution_count": 16,
   "id": "d8d5076d",
   "metadata": {},
   "outputs": [],
   "source": [
    "Series_Inner = control.series(Cascade_Control*FOPDT_Final_Element)"
   ]
  },
  {
   "cell_type": "code",
   "execution_count": 17,
   "id": "992750d3",
   "metadata": {},
   "outputs": [],
   "source": [
    "Inner_Loop = control.feedback(Series_Inner, 1, sign=-1)"
   ]
  },
  {
   "cell_type": "markdown",
   "id": "442b4fda",
   "metadata": {},
   "source": [
    "### Inner Loop Step Response"
   ]
  },
  {
   "cell_type": "code",
   "execution_count": 18,
   "id": "46f08711",
   "metadata": {},
   "outputs": [],
   "source": [
    "t, y = control.step_response(Inner_Loop)"
   ]
  },
  {
   "cell_type": "code",
   "execution_count": 19,
   "id": "43589021",
   "metadata": {},
   "outputs": [
    {
     "data": {
      "image/png": "[encoded data removed]",
      "text/plain": [
       "<Figure size 640x480 with 1 Axes>"
      ]
     },
     "metadata": {},
     "output_type": "display_data"
    }
   ],
   "source": [
    "# Plot step response\n",
    "plt.figure(1)\n",
    "plt.plot(t, y)\n",
    "plt.xlabel('Time (s)')\n",
    "plt.ylabel('Output')\n",
    "plt.title('Inner Loop Step Response')\n",
    "plt.grid()\n",
    "plt.show()"
   ]
  },
  {
   "cell_type": "markdown",
   "id": "b7f34cb7",
   "metadata": {},
   "source": [
    "## Outer Loop"
   ]
  },
  {
   "cell_type": "code",
   "execution_count": 20,
   "id": "00fa5843",
   "metadata": {},
   "outputs": [],
   "source": [
    "Series_Outer = control.series(Master_Control, Inner_Loop, FOPDT_Process)"
   ]
  },
  {
   "cell_type": "code",
   "execution_count": 21,
   "id": "1167b99d",
   "metadata": {},
   "outputs": [],
   "source": [
    "Outer_Loop = control.feedback(Series_Outer, 1, sign=-1)"
   ]
  },
  {
   "cell_type": "markdown",
   "id": "2507ae1a",
   "metadata": {},
   "source": [
    "## System Step Response"
   ]
  },
  {
   "cell_type": "code",
   "execution_count": 22,
   "id": "d14e272d",
   "metadata": {},
   "outputs": [],
   "source": [
    "t, y = control.step_response(Outer_Loop)"
   ]
  },
  {
   "cell_type": "code",
   "execution_count": 23,
   "id": "9deac495",
   "metadata": {},
   "outputs": [
    {
     "data": {
      "image/png": "[encoded data removed]",
      "text/plain": [
       "<Figure size 640x480 with 1 Axes>"
      ]
     },
     "metadata": {},
     "output_type": "display_data"
    }
   ],
   "source": [
    "# Plot step response\n",
    "plt.figure(1)\n",
    "plt.plot(t, y)\n",
    "plt.xlabel('Time (s)')\n",
    "plt.ylabel('Output')\n",
    "plt.title('System Step Response')\n",
    "plt.grid()\n",
    "plt.show()"
   ]
  },
  {
   "cell_type": "code",
   "execution_count": null,
   "id": "86611fe6",
   "metadata": {},
   "outputs": [],
   "source": []
  }
 ],
 "metadata": {
  "hide_input": false,
  "kernelspec": {
   "display_name": "Python 3 (ipykernel)",
   "language": "python",
   "name": "python3"
  },
  "language_info": {
   "codemirror_mode": {
    "name": "ipython",
    "version": 3
   },
   "file_extension": ".py",
   "mimetype": "text/x-python",
   "name": "python",
   "nbconvert_exporter": "python",
   "pygments_lexer": "ipython3",
   "version": "3.8.15"
  }
 },
 "nbformat": 4,
 "nbformat_minor": 5
}
