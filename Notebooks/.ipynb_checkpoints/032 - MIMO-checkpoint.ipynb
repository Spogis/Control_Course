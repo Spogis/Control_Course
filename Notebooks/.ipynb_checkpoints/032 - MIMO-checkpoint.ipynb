{
 "cells": [
  {
   "cell_type": "code",
   "execution_count": 49,
   "id": "5d4ffe15",
   "metadata": {},
   "outputs": [],
   "source": [
    "import control\n",
    "import slycot\n",
    "import matplotlib.pyplot as plt"
   ]
  },
  {
   "cell_type": "code",
   "execution_count": 50,
   "id": "d40c0db1",
   "metadata": {},
   "outputs": [],
   "source": [
    "import numpy as np"
   ]
  },
  {
   "cell_type": "code",
   "execution_count": 51,
   "id": "c4c41b8b",
   "metadata": {},
   "outputs": [],
   "source": [
    "# Define transfer function of the system\n",
    "s = control.tf('s')"
   ]
  },
  {
   "cell_type": "code",
   "execution_count": 52,
   "id": "3d9cddf6",
   "metadata": {},
   "outputs": [],
   "source": [
    "K1 = 12.8\n",
    "T1 = 16.7\n",
    "P1 = K1/(T1*s+1)"
   ]
  },
  {
   "cell_type": "code",
   "execution_count": 53,
   "id": "6b1ab44e",
   "metadata": {},
   "outputs": [],
   "source": [
    "P = control.tf(P1, inputs='u', outputs='y')"
   ]
  },
  {
   "cell_type": "code",
   "execution_count": null,
   "id": "bcce2a1f",
   "metadata": {},
   "outputs": [],
   "source": []
  },
  {
   "cell_type": "code",
   "execution_count": 60,
   "id": "7b74ee81",
   "metadata": {},
   "outputs": [],
   "source": [
    "Kc = 0.80\n",
    "ti = 50.0\n",
    "td = 10.0"
   ]
  },
  {
   "cell_type": "code",
   "execution_count": 66,
   "id": "131bdd0c",
   "metadata": {},
   "outputs": [],
   "source": [
    "# Define transfer function of the PID Controller\n",
    "PIDControl = Kc *(1 + (1/(ti*s)) + (td*s))"
   ]
  },
  {
   "cell_type": "code",
   "execution_count": 67,
   "id": "2678d6c8",
   "metadata": {},
   "outputs": [
    {
     "data": {
      "text/latex": [
       "$$\\frac{400 s^2 + 40 s + 0.8}{50 s}$$"
      ],
      "text/plain": [
       "TransferFunction(array([400. ,  40. ,   0.8]), array([50.,  0.]))"
      ]
     },
     "execution_count": 67,
     "metadata": {},
     "output_type": "execute_result"
    }
   ],
   "source": [
    "PIDControl"
   ]
  },
  {
   "cell_type": "code",
   "execution_count": 68,
   "id": "c4137487",
   "metadata": {},
   "outputs": [],
   "source": [
    "C = control.tf(PIDControl, inputs='e', outputs='u')"
   ]
  },
  {
   "cell_type": "code",
   "execution_count": 69,
   "id": "3df5d01e",
   "metadata": {},
   "outputs": [
    {
     "data": {
      "text/latex": [
       "$$\\frac{400 s^2 + 40 s + 0.8}{50 s}$$"
      ],
      "text/plain": [
       "TransferFunction(array([400. ,  40. ,   0.8]), array([50.,  0.]))"
      ]
     },
     "execution_count": 69,
     "metadata": {},
     "output_type": "execute_result"
    }
   ],
   "source": [
    "C"
   ]
  },
  {
   "cell_type": "code",
   "execution_count": 70,
   "id": "8beceb9e",
   "metadata": {},
   "outputs": [],
   "source": [
    "sumblk = control.summing_junction(inputs=['r', '-y'], output='e')"
   ]
  },
  {
   "cell_type": "code",
   "execution_count": 71,
   "id": "824c46c0",
   "metadata": {},
   "outputs": [
    {
     "ename": "ValueError",
     "evalue": "Transfer function is non-proper; can't convert to StateSpace system.",
     "output_type": "error",
     "traceback": [
      "\u001b[1;31m---------------------------------------------------------------------------\u001b[0m",
      "\u001b[1;31mValueError\u001b[0m                                Traceback (most recent call last)",
      "Cell \u001b[1;32mIn[71], line 1\u001b[0m\n\u001b[1;32m----> 1\u001b[0m T \u001b[38;5;241m=\u001b[39m \u001b[43mcontrol\u001b[49m\u001b[38;5;241;43m.\u001b[39;49m\u001b[43minterconnect\u001b[49m\u001b[43m(\u001b[49m\u001b[43m[\u001b[49m\u001b[43mP\u001b[49m\u001b[43m,\u001b[49m\u001b[43m \u001b[49m\u001b[43mC\u001b[49m\u001b[43m,\u001b[49m\u001b[43m \u001b[49m\u001b[43msumblk\u001b[49m\u001b[43m]\u001b[49m\u001b[43m,\u001b[49m\u001b[43m \u001b[49m\u001b[43minputs\u001b[49m\u001b[38;5;241;43m=\u001b[39;49m\u001b[38;5;124;43m'\u001b[39;49m\u001b[38;5;124;43mr\u001b[39;49m\u001b[38;5;124;43m'\u001b[39;49m\u001b[43m,\u001b[49m\u001b[43m \u001b[49m\u001b[43moutputs\u001b[49m\u001b[38;5;241;43m=\u001b[39;49m\u001b[38;5;124;43m'\u001b[39;49m\u001b[38;5;124;43my\u001b[39;49m\u001b[38;5;124;43m'\u001b[39;49m\u001b[43m)\u001b[49m\n",
      "File \u001b[1;32m~\\AppData\\Roaming\\Python\\Python39\\site-packages\\control\\iosys.py:2888\u001b[0m, in \u001b[0;36minterconnect\u001b[1;34m(syslist, connections, inplist, outlist, params, check_unused, ignore_inputs, ignore_outputs, warn_duplicate, **kwargs)\u001b[0m\n\u001b[0;32m   2885\u001b[0m         new_outlist\u001b[38;5;241m.\u001b[39mappend(signal)\n\u001b[0;32m   2886\u001b[0m outlist \u001b[38;5;241m=\u001b[39m new_outlist\n\u001b[1;32m-> 2888\u001b[0m newsys \u001b[38;5;241m=\u001b[39m \u001b[43mInterconnectedSystem\u001b[49m\u001b[43m(\u001b[49m\n\u001b[0;32m   2889\u001b[0m \u001b[43m    \u001b[49m\u001b[43msyslist\u001b[49m\u001b[43m,\u001b[49m\u001b[43m \u001b[49m\u001b[43mconnections\u001b[49m\u001b[38;5;241;43m=\u001b[39;49m\u001b[43mconnections\u001b[49m\u001b[43m,\u001b[49m\u001b[43m \u001b[49m\u001b[43minplist\u001b[49m\u001b[38;5;241;43m=\u001b[39;49m\u001b[43minplist\u001b[49m\u001b[43m,\u001b[49m\u001b[43m \u001b[49m\u001b[43moutlist\u001b[49m\u001b[38;5;241;43m=\u001b[39;49m\u001b[43moutlist\u001b[49m\u001b[43m,\u001b[49m\n\u001b[0;32m   2890\u001b[0m \u001b[43m    \u001b[49m\u001b[43minputs\u001b[49m\u001b[38;5;241;43m=\u001b[39;49m\u001b[43minputs\u001b[49m\u001b[43m,\u001b[49m\u001b[43m \u001b[49m\u001b[43moutputs\u001b[49m\u001b[38;5;241;43m=\u001b[39;49m\u001b[43moutputs\u001b[49m\u001b[43m,\u001b[49m\u001b[43m \u001b[49m\u001b[43mstates\u001b[49m\u001b[38;5;241;43m=\u001b[39;49m\u001b[43mstates\u001b[49m\u001b[43m,\u001b[49m\n\u001b[0;32m   2891\u001b[0m \u001b[43m    \u001b[49m\u001b[43mparams\u001b[49m\u001b[38;5;241;43m=\u001b[39;49m\u001b[43mparams\u001b[49m\u001b[43m,\u001b[49m\u001b[43m \u001b[49m\u001b[43mdt\u001b[49m\u001b[38;5;241;43m=\u001b[39;49m\u001b[43mdt\u001b[49m\u001b[43m,\u001b[49m\u001b[43m \u001b[49m\u001b[43mname\u001b[49m\u001b[38;5;241;43m=\u001b[39;49m\u001b[43mname\u001b[49m\u001b[43m,\u001b[49m\u001b[43m \u001b[49m\u001b[43mwarn_duplicate\u001b[49m\u001b[38;5;241;43m=\u001b[39;49m\u001b[43mwarn_duplicate\u001b[49m\u001b[43m)\u001b[49m\n\u001b[0;32m   2893\u001b[0m \u001b[38;5;66;03m# check for implicitly dropped signals\u001b[39;00m\n\u001b[0;32m   2894\u001b[0m \u001b[38;5;28;01mif\u001b[39;00m check_unused:\n",
      "File \u001b[1;32m~\\AppData\\Roaming\\Python\\Python39\\site-packages\\control\\iosys.py:922\u001b[0m, in \u001b[0;36mInterconnectedSystem.__init__\u001b[1;34m(self, syslist, connections, inplist, outlist, params, warn_duplicate, **kwargs)\u001b[0m\n\u001b[0;32m    918\u001b[0m \u001b[38;5;28;01mfor\u001b[39;00m sysidx, sys \u001b[38;5;129;01min\u001b[39;00m \u001b[38;5;28menumerate\u001b[39m(\u001b[38;5;28mself\u001b[39m\u001b[38;5;241m.\u001b[39msyslist):\n\u001b[0;32m    919\u001b[0m     \u001b[38;5;66;03m# If we were passed a SS or TF system, convert to LinearIOSystem\u001b[39;00m\n\u001b[0;32m    920\u001b[0m     \u001b[38;5;28;01mif\u001b[39;00m \u001b[38;5;28misinstance\u001b[39m(sys, (StateSpace, TransferFunction)) \u001b[38;5;129;01mand\u001b[39;00m \\\n\u001b[0;32m    921\u001b[0m        \u001b[38;5;129;01mnot\u001b[39;00m \u001b[38;5;28misinstance\u001b[39m(sys, LinearIOSystem):\n\u001b[1;32m--> 922\u001b[0m         sys \u001b[38;5;241m=\u001b[39m \u001b[43mLinearIOSystem\u001b[49m\u001b[43m(\u001b[49m\u001b[43msys\u001b[49m\u001b[43m,\u001b[49m\u001b[43m \u001b[49m\u001b[43mname\u001b[49m\u001b[38;5;241;43m=\u001b[39;49m\u001b[43msys\u001b[49m\u001b[38;5;241;43m.\u001b[39;49m\u001b[43mname\u001b[49m\u001b[43m)\u001b[49m\n\u001b[0;32m    923\u001b[0m         \u001b[38;5;28mself\u001b[39m\u001b[38;5;241m.\u001b[39msyslist[sysidx] \u001b[38;5;241m=\u001b[39m sys\n\u001b[0;32m    925\u001b[0m     \u001b[38;5;66;03m# Make sure time bases are consistent\u001b[39;00m\n",
      "File \u001b[1;32m~\\AppData\\Roaming\\Python\\Python39\\site-packages\\control\\iosys.py:659\u001b[0m, in \u001b[0;36mLinearIOSystem.__init__\u001b[1;34m(self, linsys, **kwargs)\u001b[0m\n\u001b[0;32m    650\u001b[0m \u001b[38;5;124;03m\"\"\"Create an I/O system from a state space linear system.\u001b[39;00m\n\u001b[0;32m    651\u001b[0m \n\u001b[0;32m    652\u001b[0m \u001b[38;5;124;03mConverts a :class:`~control.StateSpace` system into an\u001b[39;00m\n\u001b[1;32m   (...)\u001b[0m\n\u001b[0;32m    655\u001b[0m \n\u001b[0;32m    656\u001b[0m \u001b[38;5;124;03m\"\"\"\u001b[39;00m\n\u001b[0;32m    657\u001b[0m \u001b[38;5;28;01mif\u001b[39;00m \u001b[38;5;28misinstance\u001b[39m(linsys, TransferFunction):\n\u001b[0;32m    658\u001b[0m     \u001b[38;5;66;03m# Convert system to StateSpace\u001b[39;00m\n\u001b[1;32m--> 659\u001b[0m     linsys \u001b[38;5;241m=\u001b[39m \u001b[43m_convert_to_statespace\u001b[49m\u001b[43m(\u001b[49m\u001b[43mlinsys\u001b[49m\u001b[43m)\u001b[49m\n\u001b[0;32m    661\u001b[0m \u001b[38;5;28;01melif\u001b[39;00m \u001b[38;5;129;01mnot\u001b[39;00m \u001b[38;5;28misinstance\u001b[39m(linsys, StateSpace):\n\u001b[0;32m    662\u001b[0m     \u001b[38;5;28;01mraise\u001b[39;00m \u001b[38;5;167;01mTypeError\u001b[39;00m(\u001b[38;5;124m\"\u001b[39m\u001b[38;5;124mLinear I/O system must be a state space \u001b[39m\u001b[38;5;124m\"\u001b[39m\n\u001b[0;32m    663\u001b[0m                     \u001b[38;5;124m\"\u001b[39m\u001b[38;5;124mor transfer function object\u001b[39m\u001b[38;5;124m\"\u001b[39m)\n",
      "File \u001b[1;32m~\\AppData\\Roaming\\Python\\Python39\\site-packages\\control\\statesp.py:1552\u001b[0m, in \u001b[0;36m_convert_to_statespace\u001b[1;34m(sys)\u001b[0m\n\u001b[0;32m   1548\u001b[0m \u001b[38;5;28;01melif\u001b[39;00m \u001b[38;5;28misinstance\u001b[39m(sys, TransferFunction):\n\u001b[0;32m   1549\u001b[0m     \u001b[38;5;66;03m# Make sure the transfer function is proper\u001b[39;00m\n\u001b[0;32m   1550\u001b[0m     \u001b[38;5;28;01mif\u001b[39;00m \u001b[38;5;28many\u001b[39m([[\u001b[38;5;28mlen\u001b[39m(num) \u001b[38;5;28;01mfor\u001b[39;00m num \u001b[38;5;129;01min\u001b[39;00m col] \u001b[38;5;28;01mfor\u001b[39;00m col \u001b[38;5;129;01min\u001b[39;00m sys\u001b[38;5;241m.\u001b[39mnum] \u001b[38;5;241m>\u001b[39m\n\u001b[0;32m   1551\u001b[0m            [[\u001b[38;5;28mlen\u001b[39m(num) \u001b[38;5;28;01mfor\u001b[39;00m num \u001b[38;5;129;01min\u001b[39;00m col] \u001b[38;5;28;01mfor\u001b[39;00m col \u001b[38;5;129;01min\u001b[39;00m sys\u001b[38;5;241m.\u001b[39mden]):\n\u001b[1;32m-> 1552\u001b[0m         \u001b[38;5;28;01mraise\u001b[39;00m \u001b[38;5;167;01mValueError\u001b[39;00m(\u001b[38;5;124m\"\u001b[39m\u001b[38;5;124mTransfer function is non-proper; can\u001b[39m\u001b[38;5;124m'\u001b[39m\u001b[38;5;124mt \u001b[39m\u001b[38;5;124m\"\u001b[39m\n\u001b[0;32m   1553\u001b[0m                          \u001b[38;5;124m\"\u001b[39m\u001b[38;5;124mconvert to StateSpace system.\u001b[39m\u001b[38;5;124m\"\u001b[39m)\n\u001b[0;32m   1555\u001b[0m     \u001b[38;5;28;01mtry\u001b[39;00m:\n\u001b[0;32m   1556\u001b[0m         \u001b[38;5;28;01mfrom\u001b[39;00m \u001b[38;5;21;01mslycot\u001b[39;00m \u001b[38;5;28;01mimport\u001b[39;00m td04ad\n",
      "\u001b[1;31mValueError\u001b[0m: Transfer function is non-proper; can't convert to StateSpace system."
     ]
    }
   ],
   "source": [
    "T = control.interconnect([P, C, sumblk], inputs='r', outputs='y')"
   ]
  },
  {
   "cell_type": "code",
   "execution_count": null,
   "id": "fc6fc89d",
   "metadata": {},
   "outputs": [],
   "source": [
    "T.ninputs, T.noutputs, T.nstates"
   ]
  },
  {
   "cell_type": "code",
   "execution_count": null,
   "id": "d89e95ad",
   "metadata": {},
   "outputs": [],
   "source": [
    "t, y = control.step_response(T)"
   ]
  },
  {
   "cell_type": "code",
   "execution_count": null,
   "id": "dfc6cb3d",
   "metadata": {},
   "outputs": [],
   "source": [
    "# Plot step response\n",
    "plt.figure(1)\n",
    "plt.plot(t, y)\n",
    "plt.xlabel('Time (s)')\n",
    "plt.ylabel('Output')\n",
    "plt.title('System Step Response')\n",
    "plt.grid()\n",
    "plt.show()"
   ]
  },
  {
   "cell_type": "code",
   "execution_count": null,
   "id": "083e2441",
   "metadata": {},
   "outputs": [],
   "source": []
  }
 ],
 "metadata": {
  "hide_input": false,
  "kernelspec": {
   "display_name": "Python 3 (ipykernel)",
   "language": "python",
   "name": "python3"
  },
  "language_info": {
   "codemirror_mode": {
    "name": "ipython",
    "version": 3
   },
   "file_extension": ".py",
   "mimetype": "text/x-python",
   "name": "python",
   "nbconvert_exporter": "python",
   "pygments_lexer": "ipython3",
   "version": "3.9.16"
  }
 },
 "nbformat": 4,
 "nbformat_minor": 5
}
