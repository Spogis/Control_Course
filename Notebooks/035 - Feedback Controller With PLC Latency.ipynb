{
  "cells": [
    {
      "cell_type": "markdown",
      "source": [
        "# Install Python Control Systems Library"
      ],
      "metadata": {
        "id": "7GFdz49u_M4T"
      }
    },
    {
      "cell_type": "code",
      "execution_count": null,
      "metadata": {
        "id": "P1zyUOcM_giB"
      },
      "outputs": [],
      "source": [
        "pip install control"
      ]
    },
    {
      "cell_type": "code",
      "execution_count": null,
      "metadata": {
        "id": "WeCHa6Aj_niZ"
      },
      "outputs": [],
      "source": [
        "import control\n",
        "import matplotlib.pyplot as plt"
      ]
    },
    {
      "cell_type": "code",
      "execution_count": null,
      "metadata": {
        "id": "sComVAaDc9X8"
      },
      "outputs": [],
      "source": [
        "# Define transfer function of the system\n",
        "s = control.tf('s')"
      ]
    },
    {
      "cell_type": "markdown",
      "metadata": {
        "id": "QEETx83Ic9X8"
      },
      "source": [
        "# Process + Non Ideal Sensor -> Feedback Controler"
      ]
    },
    {
      "cell_type": "markdown",
      "source": [
        "![PLCDelay.PNG](data:image/png;base64,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)"
      ],
      "metadata": {
        "id": "l0JGvjyBFkEr"
      }
    },
    {
      "cell_type": "markdown",
      "source": [
        "## PLC Signal Delay"
      ],
      "metadata": {
        "id": "UEsFZdfn7t9C"
      }
    },
    {
      "cell_type": "code",
      "source": [
        "Delay= 10.0\n",
        "num, den = control.pade(Delay, n=2, numdeg=0)\n",
        "PLC = control.tf(num, den)"
      ],
      "metadata": {
        "id": "1ROS_Ymx-rKY"
      },
      "execution_count": null,
      "outputs": []
    },
    {
      "cell_type": "markdown",
      "source": [
        "## Process + Controller"
      ],
      "metadata": {
        "id": "RZOnFs7x-r25"
      }
    },
    {
      "cell_type": "code",
      "execution_count": null,
      "metadata": {
        "id": "KzWHyxsK_xpP"
      },
      "outputs": [],
      "source": [
        "Kp= 70.0\n",
        "Tau= 320.0\n",
        "FO  = Kp/(Tau*s + 1)"
      ]
    },
    {
      "cell_type": "code",
      "source": [
        "Delay= 58.0\n",
        "num, den = control.pade(Delay, n=2, numdeg=0)\n",
        "Pade = control.tf(num, den)"
      ],
      "metadata": {
        "id": "JPLHt5Pw406x"
      },
      "execution_count": null,
      "outputs": []
    },
    {
      "cell_type": "code",
      "source": [
        "FOPDT = control.series(FO, Pade)"
      ],
      "metadata": {
        "id": "H0xxdwEj41C5"
      },
      "execution_count": null,
      "outputs": []
    },
    {
      "cell_type": "code",
      "source": [
        "# Define transfer function of the PID controller\n",
        "Kc = 0.1\n",
        "ti = 119.0\n",
        "td = 30.0\n",
        "# Define transfer function of the PID Controller\n",
        "Controller = Kc*(1 + (1/(ti*s)) + (td*s))"
      ],
      "metadata": {
        "id": "SZxVI_YjdyX2"
      },
      "execution_count": null,
      "outputs": []
    },
    {
      "cell_type": "code",
      "source": [
        "Sys_Control = control.series(Controller, FOPDT)"
      ],
      "metadata": {
        "id": "mSVmElfKd0mk"
      },
      "execution_count": null,
      "outputs": []
    },
    {
      "cell_type": "markdown",
      "source": [
        "## Feedback Step Response"
      ],
      "metadata": {
        "id": "lNIUqC_dePsg"
      }
    },
    {
      "cell_type": "code",
      "source": [
        "sys = control.feedback(Sys_Control, PLC, sign=-1)"
      ],
      "metadata": {
        "id": "_sg2vqpZ3fNs"
      },
      "execution_count": null,
      "outputs": []
    },
    {
      "cell_type": "code",
      "execution_count": null,
      "metadata": {
        "id": "BObefGjRBwPx"
      },
      "outputs": [],
      "source": [
        "# Simulate step response\n",
        "t, y = control.step_response(sys, T=1000)"
      ]
    },
    {
      "cell_type": "code",
      "execution_count": null,
      "metadata": {
        "id": "AvRIgSBwBwWH"
      },
      "outputs": [],
      "source": [
        "# Plot step response\n",
        "plt.plot(t, y)\n",
        "plt.xlabel('Time (s)')\n",
        "plt.ylabel('Output')\n",
        "plt.title('System Step Response')\n",
        "plt.grid()\n",
        "plt.show()"
      ]
    }
  ],
  "metadata": {
    "colab": {
      "provenance": []
    },
    "hide_input": false,
    "kernelspec": {
      "display_name": "Python 3 (ipykernel)",
      "language": "python",
      "name": "python3"
    },
    "language_info": {
      "codemirror_mode": {
        "name": "ipython",
        "version": 3
      },
      "file_extension": ".py",
      "mimetype": "text/x-python",
      "name": "python",
      "nbconvert_exporter": "python",
      "pygments_lexer": "ipython3",
      "version": "3.8.15"
    }
  },
  "nbformat": 4,
  "nbformat_minor": 0
}