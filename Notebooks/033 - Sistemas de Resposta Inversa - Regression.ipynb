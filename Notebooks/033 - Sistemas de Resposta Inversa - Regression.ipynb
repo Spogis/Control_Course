{
  "cells": [
    {
      "cell_type": "code",
      "execution_count": 1,
      "id": "a98813a7",
      "metadata": {
        "id": "a98813a7",
        "colab": {
          "base_uri": "https://localhost:8080/"
        },
        "outputId": "6f865466-70f1-4a1d-b799-d3d866744a1d"
      },
      "outputs": [
        {
          "output_type": "stream",
          "name": "stdout",
          "text": [
            "Requirement already satisfied: control in /usr/local/lib/python3.10/dist-packages (0.9.4)\n",
            "Requirement already satisfied: numpy in /usr/local/lib/python3.10/dist-packages (from control) (1.23.5)\n",
            "Requirement already satisfied: scipy>=1.3 in /usr/local/lib/python3.10/dist-packages (from control) (1.11.4)\n",
            "Requirement already satisfied: matplotlib in /usr/local/lib/python3.10/dist-packages (from control) (3.7.1)\n",
            "Requirement already satisfied: contourpy>=1.0.1 in /usr/local/lib/python3.10/dist-packages (from matplotlib->control) (1.2.0)\n",
            "Requirement already satisfied: cycler>=0.10 in /usr/local/lib/python3.10/dist-packages (from matplotlib->control) (0.12.1)\n",
            "Requirement already satisfied: fonttools>=4.22.0 in /usr/local/lib/python3.10/dist-packages (from matplotlib->control) (4.47.2)\n",
            "Requirement already satisfied: kiwisolver>=1.0.1 in /usr/local/lib/python3.10/dist-packages (from matplotlib->control) (1.4.5)\n",
            "Requirement already satisfied: packaging>=20.0 in /usr/local/lib/python3.10/dist-packages (from matplotlib->control) (23.2)\n",
            "Requirement already satisfied: pillow>=6.2.0 in /usr/local/lib/python3.10/dist-packages (from matplotlib->control) (9.4.0)\n",
            "Requirement already satisfied: pyparsing>=2.3.1 in /usr/local/lib/python3.10/dist-packages (from matplotlib->control) (3.1.1)\n",
            "Requirement already satisfied: python-dateutil>=2.7 in /usr/local/lib/python3.10/dist-packages (from matplotlib->control) (2.8.2)\n",
            "Requirement already satisfied: six>=1.5 in /usr/local/lib/python3.10/dist-packages (from python-dateutil>=2.7->matplotlib->control) (1.16.0)\n"
          ]
        }
      ],
      "source": [
        "pip install control"
      ]
    },
    {
      "cell_type": "code",
      "execution_count": 2,
      "id": "f08cf3cf",
      "metadata": {
        "id": "f08cf3cf"
      },
      "outputs": [],
      "source": [
        "import control"
      ]
    },
    {
      "cell_type": "code",
      "execution_count": 3,
      "id": "02f42efc",
      "metadata": {
        "id": "02f42efc"
      },
      "outputs": [],
      "source": [
        "s = control.tf('s')"
      ]
    },
    {
      "cell_type": "code",
      "execution_count": 4,
      "id": "26a74d0a",
      "metadata": {
        "id": "26a74d0a"
      },
      "outputs": [],
      "source": [
        "import pandas as pd\n",
        "import numpy as np\n",
        "import matplotlib.pyplot as plt"
      ]
    },
    {
      "cell_type": "markdown",
      "source": [
        "# Sistema de Resposta Inversa"
      ],
      "metadata": {
        "id": "4LfxO3YkSp26"
      },
      "id": "4LfxO3YkSp26"
    },
    {
      "cell_type": "code",
      "source": [
        "K1 = 5.0\n",
        "T1 = 5.0"
      ],
      "metadata": {
        "id": "r5ED8rRfSpOC"
      },
      "id": "r5ED8rRfSpOC",
      "execution_count": 5,
      "outputs": []
    },
    {
      "cell_type": "code",
      "source": [
        "P1 = K1/(T1*s+1)"
      ],
      "metadata": {
        "id": "0KgUf68PStPz"
      },
      "id": "0KgUf68PStPz",
      "execution_count": 6,
      "outputs": []
    },
    {
      "cell_type": "code",
      "source": [
        "K2 = 2.0\n",
        "T2 = 1.0"
      ],
      "metadata": {
        "id": "qGj3ZY_sStTR"
      },
      "id": "qGj3ZY_sStTR",
      "execution_count": 7,
      "outputs": []
    },
    {
      "cell_type": "code",
      "source": [
        "P2 = K2/(T2*s+1)"
      ],
      "metadata": {
        "id": "96b3_TrJStWN"
      },
      "id": "96b3_TrJStWN",
      "execution_count": 8,
      "outputs": []
    },
    {
      "cell_type": "code",
      "source": [
        "Process = control.parallel(P1, -P2)"
      ],
      "metadata": {
        "id": "O-D6O2MaStY-"
      },
      "id": "O-D6O2MaStY-",
      "execution_count": 9,
      "outputs": []
    },
    {
      "cell_type": "code",
      "source": [
        "t, y = control.step_response(Process)"
      ],
      "metadata": {
        "id": "9Esa6tAaSy9C"
      },
      "id": "9Esa6tAaSy9C",
      "execution_count": 10,
      "outputs": []
    },
    {
      "cell_type": "code",
      "source": [
        "# Plot step response\n",
        "plt.figure(1)\n",
        "plt.plot(t, y)\n",
        "plt.xlabel('Time (s)')\n",
        "plt.ylabel('Output')\n",
        "plt.title('System Step Response')\n",
        "plt.grid()\n",
        "plt.show()"
      ],
      "metadata": {
        "colab": {
          "base_uri": "https://localhost:8080/",
          "height": 472
        },
        "id": "vfsCGrvMSzAK",
        "outputId": "fb71f480-238d-4c64-fa82-4c9d6bf79e10"
      },
      "id": "vfsCGrvMSzAK",
      "execution_count": 11,
      "outputs": [
        {
          "output_type": "display_data",
          "data": {
            "text/plain": [
              "<Figure size 640x480 with 1 Axes>"
            ],
            "image/png": "[encoded data removed]"
          },
          "metadata": {}
        }
      ]
    },
    {
      "cell_type": "markdown",
      "source": [
        "## Export Data"
      ],
      "metadata": {
        "id": "YRm_XWSJTP2p"
      },
      "id": "YRm_XWSJTP2p"
    },
    {
      "cell_type": "code",
      "source": [
        "import pandas as pd\n",
        "import numpy as np"
      ],
      "metadata": {
        "id": "oeTse-wfSzDK"
      },
      "id": "oeTse-wfSzDK",
      "execution_count": 12,
      "outputs": []
    },
    {
      "cell_type": "code",
      "source": [
        "t = np.transpose(t)\n",
        "y = np.transpose(y)"
      ],
      "metadata": {
        "id": "itdBSYC1TSw0"
      },
      "id": "itdBSYC1TSw0",
      "execution_count": 13,
      "outputs": []
    },
    {
      "cell_type": "code",
      "source": [
        "df = pd.DataFrame({'t':t, 'y':y})"
      ],
      "metadata": {
        "id": "Kc70CamQTS5N"
      },
      "id": "Kc70CamQTS5N",
      "execution_count": 14,
      "outputs": []
    },
    {
      "cell_type": "code",
      "source": [
        "df.to_excel(\"RespostaInversa.xlsx\", index=False)"
      ],
      "metadata": {
        "id": "D3qcG17CTS8n"
      },
      "id": "D3qcG17CTS8n",
      "execution_count": 15,
      "outputs": []
    },
    {
      "cell_type": "markdown",
      "source": [
        "# Ajuste de Parâmetros"
      ],
      "metadata": {
        "id": "2KdIBsR9TZSF"
      },
      "id": "2KdIBsR9TZSF"
    },
    {
      "cell_type": "code",
      "execution_count": 16,
      "id": "c88ea59a",
      "metadata": {
        "id": "c88ea59a"
      },
      "outputs": [],
      "source": [
        "df = pd.read_excel('RespostaInversa.xlsx')"
      ]
    },
    {
      "cell_type": "code",
      "execution_count": 17,
      "id": "e85d3329",
      "metadata": {
        "id": "e85d3329",
        "outputId": "0ca262b7-3860-4b2c-a418-2ab4e8be3fe2",
        "colab": {
          "base_uri": "https://localhost:8080/",
          "height": 300
        }
      },
      "outputs": [
        {
          "output_type": "execute_result",
          "data": {
            "text/plain": [
              "                t           y\n",
              "count  252.000000  252.000000\n",
              "mean    17.269388    2.331528\n",
              "std     10.030051    0.976696\n",
              "min      0.000000   -0.363016\n",
              "25%      8.634694    2.111153\n",
              "50%     17.269388    2.841871\n",
              "75%     25.904082    2.971881\n",
              "max     34.538776    2.995000"
            ],
            "text/html": [
              "\n",
              "  <div id=\"df-9b867d7e-4fea-4090-8240-c4b1032b70f7\" class=\"colab-df-container\">\n",
              "    <div>\n",
              "<style scoped>\n",
              "    .dataframe tbody tr th:only-of-type {\n",
              "        vertical-align: middle;\n",
              "    }\n",
              "\n",
              "    .dataframe tbody tr th {\n",
              "        vertical-align: top;\n",
              "    }\n",
              "\n",
              "    .dataframe thead th {\n",
              "        text-align: right;\n",
              "    }\n",
              "</style>\n",
              "<table border=\"1\" class=\"dataframe\">\n",
              "  <thead>\n",
              "    <tr style=\"text-align: right;\">\n",
              "      <th></th>\n",
              "      <th>t</th>\n",
              "      <th>y</th>\n",
              "    </tr>\n",
              "  </thead>\n",
              "  <tbody>\n",
              "    <tr>\n",
              "      <th>count</th>\n",
              "      <td>252.000000</td>\n",
              "      <td>252.000000</td>\n",
              "    </tr>\n",
              "    <tr>\n",
              "      <th>mean</th>\n",
              "      <td>17.269388</td>\n",
              "      <td>2.331528</td>\n",
              "    </tr>\n",
              "    <tr>\n",
              "      <th>std</th>\n",
              "      <td>10.030051</td>\n",
              "      <td>0.976696</td>\n",
              "    </tr>\n",
              "    <tr>\n",
              "      <th>min</th>\n",
              "      <td>0.000000</td>\n",
              "      <td>-0.363016</td>\n",
              "    </tr>\n",
              "    <tr>\n",
              "      <th>25%</th>\n",
              "      <td>8.634694</td>\n",
              "      <td>2.111153</td>\n",
              "    </tr>\n",
              "    <tr>\n",
              "      <th>50%</th>\n",
              "      <td>17.269388</td>\n",
              "      <td>2.841871</td>\n",
              "    </tr>\n",
              "    <tr>\n",
              "      <th>75%</th>\n",
              "      <td>25.904082</td>\n",
              "      <td>2.971881</td>\n",
              "    </tr>\n",
              "    <tr>\n",
              "      <th>max</th>\n",
              "      <td>34.538776</td>\n",
              "      <td>2.995000</td>\n",
              "    </tr>\n",
              "  </tbody>\n",
              "</table>\n",
              "</div>\n",
              "    <div class=\"colab-df-buttons\">\n",
              "\n",
              "  <div class=\"colab-df-container\">\n",
              "    <button class=\"colab-df-convert\" onclick=\"convertToInteractive('df-9b867d7e-4fea-4090-8240-c4b1032b70f7')\"\n",
              "            title=\"Convert this dataframe to an interactive table.\"\n",
              "            style=\"display:none;\">\n",
              "\n",
              "  <svg xmlns=\"http://www.w3.org/2000/svg\" height=\"24px\" viewBox=\"0 -960 960 960\">\n",
              "    <path d=\"M120-120v-720h720v720H120Zm60-500h600v-160H180v160Zm220 220h160v-160H400v160Zm0 220h160v-160H400v160ZM180-400h160v-160H180v160Zm440 0h160v-160H620v160ZM180-180h160v-160H180v160Zm440 0h160v-160H620v160Z\"/>\n",
              "  </svg>\n",
              "    </button>\n",
              "\n",
              "  <style>\n",
              "    .colab-df-container {\n",
              "      display:flex;\n",
              "      gap: 12px;\n",
              "    }\n",
              "\n",
              "    .colab-df-convert {\n",
              "      background-color: #E8F0FE;\n",
              "      border: none;\n",
              "      border-radius: 50%;\n",
              "      cursor: pointer;\n",
              "      display: none;\n",
              "      fill: #1967D2;\n",
              "      height: 32px;\n",
              "      padding: 0 0 0 0;\n",
              "      width: 32px;\n",
              "    }\n",
              "\n",
              "    .colab-df-convert:hover {\n",
              "      background-color: #E2EBFA;\n",
              "      box-shadow: 0px 1px 2px rgba(60, 64, 67, 0.3), 0px 1px 3px 1px rgba(60, 64, 67, 0.15);\n",
              "      fill: #174EA6;\n",
              "    }\n",
              "\n",
              "    .colab-df-buttons div {\n",
              "      margin-bottom: 4px;\n",
              "    }\n",
              "\n",
              "    [theme=dark] .colab-df-convert {\n",
              "      background-color: #3B4455;\n",
              "      fill: #D2E3FC;\n",
              "    }\n",
              "\n",
              "    [theme=dark] .colab-df-convert:hover {\n",
              "      background-color: #434B5C;\n",
              "      box-shadow: 0px 1px 3px 1px rgba(0, 0, 0, 0.15);\n",
              "      filter: drop-shadow(0px 1px 2px rgba(0, 0, 0, 0.3));\n",
              "      fill: #FFFFFF;\n",
              "    }\n",
              "  </style>\n",
              "\n",
              "    <script>\n",
              "      const buttonEl =\n",
              "        document.querySelector('#df-9b867d7e-4fea-4090-8240-c4b1032b70f7 button.colab-df-convert');\n",
              "      buttonEl.style.display =\n",
              "        google.colab.kernel.accessAllowed ? 'block' : 'none';\n",
              "\n",
              "      async function convertToInteractive(key) {\n",
              "        const element = document.querySelector('#df-9b867d7e-4fea-4090-8240-c4b1032b70f7');\n",
              "        const dataTable =\n",
              "          await google.colab.kernel.invokeFunction('convertToInteractive',\n",
              "                                                    [key], {});\n",
              "        if (!dataTable) return;\n",
              "\n",
              "        const docLinkHtml = 'Like what you see? Visit the ' +\n",
              "          '<a target=\"_blank\" href=https://colab.research.google.com/notebooks/data_table.ipynb>data table notebook</a>'\n",
              "          + ' to learn more about interactive tables.';\n",
              "        element.innerHTML = '';\n",
              "        dataTable['output_type'] = 'display_data';\n",
              "        await google.colab.output.renderOutput(dataTable, element);\n",
              "        const docLink = document.createElement('div');\n",
              "        docLink.innerHTML = docLinkHtml;\n",
              "        element.appendChild(docLink);\n",
              "      }\n",
              "    </script>\n",
              "  </div>\n",
              "\n",
              "\n",
              "<div id=\"df-5060f432-1ff8-4a8d-9811-c0c91b6b28b4\">\n",
              "  <button class=\"colab-df-quickchart\" onclick=\"quickchart('df-5060f432-1ff8-4a8d-9811-c0c91b6b28b4')\"\n",
              "            title=\"Suggest charts\"\n",
              "            style=\"display:none;\">\n",
              "\n",
              "<svg xmlns=\"http://www.w3.org/2000/svg\" height=\"24px\"viewBox=\"0 0 24 24\"\n",
              "     width=\"24px\">\n",
              "    <g>\n",
              "        <path d=\"M19 3H5c-1.1 0-2 .9-2 2v14c0 1.1.9 2 2 2h14c1.1 0 2-.9 2-2V5c0-1.1-.9-2-2-2zM9 17H7v-7h2v7zm4 0h-2V7h2v10zm4 0h-2v-4h2v4z\"/>\n",
              "    </g>\n",
              "</svg>\n",
              "  </button>\n",
              "\n",
              "<style>\n",
              "  .colab-df-quickchart {\n",
              "      --bg-color: #E8F0FE;\n",
              "      --fill-color: #1967D2;\n",
              "      --hover-bg-color: #E2EBFA;\n",
              "      --hover-fill-color: #174EA6;\n",
              "      --disabled-fill-color: #AAA;\n",
              "      --disabled-bg-color: #DDD;\n",
              "  }\n",
              "\n",
              "  [theme=dark] .colab-df-quickchart {\n",
              "      --bg-color: #3B4455;\n",
              "      --fill-color: #D2E3FC;\n",
              "      --hover-bg-color: #434B5C;\n",
              "      --hover-fill-color: #FFFFFF;\n",
              "      --disabled-bg-color: #3B4455;\n",
              "      --disabled-fill-color: #666;\n",
              "  }\n",
              "\n",
              "  .colab-df-quickchart {\n",
              "    background-color: var(--bg-color);\n",
              "    border: none;\n",
              "    border-radius: 50%;\n",
              "    cursor: pointer;\n",
              "    display: none;\n",
              "    fill: var(--fill-color);\n",
              "    height: 32px;\n",
              "    padding: 0;\n",
              "    width: 32px;\n",
              "  }\n",
              "\n",
              "  .colab-df-quickchart:hover {\n",
              "    background-color: var(--hover-bg-color);\n",
              "    box-shadow: 0 1px 2px rgba(60, 64, 67, 0.3), 0 1px 3px 1px rgba(60, 64, 67, 0.15);\n",
              "    fill: var(--button-hover-fill-color);\n",
              "  }\n",
              "\n",
              "  .colab-df-quickchart-complete:disabled,\n",
              "  .colab-df-quickchart-complete:disabled:hover {\n",
              "    background-color: var(--disabled-bg-color);\n",
              "    fill: var(--disabled-fill-color);\n",
              "    box-shadow: none;\n",
              "  }\n",
              "\n",
              "  .colab-df-spinner {\n",
              "    border: 2px solid var(--fill-color);\n",
              "    border-color: transparent;\n",
              "    border-bottom-color: var(--fill-color);\n",
              "    animation:\n",
              "      spin 1s steps(1) infinite;\n",
              "  }\n",
              "\n",
              "  @keyframes spin {\n",
              "    0% {\n",
              "      border-color: transparent;\n",
              "      border-bottom-color: var(--fill-color);\n",
              "      border-left-color: var(--fill-color);\n",
              "    }\n",
              "    20% {\n",
              "      border-color: transparent;\n",
              "      border-left-color: var(--fill-color);\n",
              "      border-top-color: var(--fill-color);\n",
              "    }\n",
              "    30% {\n",
              "      border-color: transparent;\n",
              "      border-left-color: var(--fill-color);\n",
              "      border-top-color: var(--fill-color);\n",
              "      border-right-color: var(--fill-color);\n",
              "    }\n",
              "    40% {\n",
              "      border-color: transparent;\n",
              "      border-right-color: var(--fill-color);\n",
              "      border-top-color: var(--fill-color);\n",
              "    }\n",
              "    60% {\n",
              "      border-color: transparent;\n",
              "      border-right-color: var(--fill-color);\n",
              "    }\n",
              "    80% {\n",
              "      border-color: transparent;\n",
              "      border-right-color: var(--fill-color);\n",
              "      border-bottom-color: var(--fill-color);\n",
              "    }\n",
              "    90% {\n",
              "      border-color: transparent;\n",
              "      border-bottom-color: var(--fill-color);\n",
              "    }\n",
              "  }\n",
              "</style>\n",
              "\n",
              "  <script>\n",
              "    async function quickchart(key) {\n",
              "      const quickchartButtonEl =\n",
              "        document.querySelector('#' + key + ' button');\n",
              "      quickchartButtonEl.disabled = true;  // To prevent multiple clicks.\n",
              "      quickchartButtonEl.classList.add('colab-df-spinner');\n",
              "      try {\n",
              "        const charts = await google.colab.kernel.invokeFunction(\n",
              "            'suggestCharts', [key], {});\n",
              "      } catch (error) {\n",
              "        console.error('Error during call to suggestCharts:', error);\n",
              "      }\n",
              "      quickchartButtonEl.classList.remove('colab-df-spinner');\n",
              "      quickchartButtonEl.classList.add('colab-df-quickchart-complete');\n",
              "    }\n",
              "    (() => {\n",
              "      let quickchartButtonEl =\n",
              "        document.querySelector('#df-5060f432-1ff8-4a8d-9811-c0c91b6b28b4 button');\n",
              "      quickchartButtonEl.style.display =\n",
              "        google.colab.kernel.accessAllowed ? 'block' : 'none';\n",
              "    })();\n",
              "  </script>\n",
              "</div>\n",
              "\n",
              "    </div>\n",
              "  </div>\n"
            ]
          },
          "metadata": {},
          "execution_count": 17
        }
      ],
      "source": [
        "df.describe()"
      ]
    },
    {
      "cell_type": "code",
      "execution_count": 18,
      "id": "eb43443d",
      "metadata": {
        "id": "eb43443d"
      },
      "outputs": [],
      "source": [
        "Max_t = df['t'].max()"
      ]
    },
    {
      "cell_type": "code",
      "execution_count": 19,
      "id": "eb4b02b9",
      "metadata": {
        "id": "eb4b02b9"
      },
      "outputs": [],
      "source": [
        "Delta_t = df._get_value(1, 't') - df._get_value(0, 't')"
      ]
    },
    {
      "cell_type": "code",
      "execution_count": 20,
      "id": "468c58c3",
      "metadata": {
        "id": "468c58c3"
      },
      "outputs": [],
      "source": [
        "Count_t = len(df['t'])"
      ]
    },
    {
      "cell_type": "markdown",
      "id": "253fa0c3",
      "metadata": {
        "id": "253fa0c3"
      },
      "source": [
        "## Optimize"
      ]
    },
    {
      "cell_type": "code",
      "execution_count": 21,
      "id": "a1753892",
      "metadata": {
        "id": "a1753892"
      },
      "outputs": [],
      "source": [
        "from scipy.optimize import minimize\n",
        "from sklearn.metrics import mean_squared_error"
      ]
    },
    {
      "cell_type": "code",
      "execution_count": 22,
      "id": "d1034693",
      "metadata": {
        "id": "d1034693"
      },
      "outputs": [],
      "source": [
        "def fun(x):\n",
        "    global df\n",
        "\n",
        "    K1 = x[0]\n",
        "    T1 = x[1]\n",
        "\n",
        "    K2 = x[2]\n",
        "    T2 = x[3]\n",
        "\n",
        "    P1 = K1/(T1*s+1)\n",
        "    P2 = K2/(T2*s+1)\n",
        "    sys = control.parallel(P1, -P2)\n",
        "\n",
        "    # Simulate step response\n",
        "    t_fun, y_fun = control.step_response(sys, T=Max_t, T_num=Count_t)\n",
        "    df_fun = pd.DataFrame({'t_fun':t_fun, 'y_fun':y_fun})\n",
        "\n",
        "    mse = mean_squared_error(df_fun['y_fun'], df['y'])\n",
        "    return mse"
      ]
    },
    {
      "cell_type": "code",
      "execution_count": 23,
      "id": "75a9bfcd",
      "metadata": {
        "id": "75a9bfcd"
      },
      "outputs": [],
      "source": [
        "x0 = [1, 1, 1, 1]"
      ]
    },
    {
      "cell_type": "code",
      "source": [
        "bnds = ((0, None), (0, None), (0, None), (0, None))"
      ],
      "metadata": {
        "id": "KamSxaSOWxuO"
      },
      "id": "KamSxaSOWxuO",
      "execution_count": 24,
      "outputs": []
    },
    {
      "cell_type": "code",
      "execution_count": 25,
      "id": "dfb728f2",
      "metadata": {
        "id": "dfb728f2"
      },
      "outputs": [],
      "source": [
        "res = minimize(fun, x0, method='Powell', bounds=bnds, tol=1e-15)"
      ]
    },
    {
      "cell_type": "code",
      "execution_count": 26,
      "id": "5eb01884",
      "metadata": {
        "id": "5eb01884"
      },
      "outputs": [],
      "source": [
        "K1_opt = res.x[0]\n",
        "T1_opt = res.x[1]\n",
        "K2_opt = res.x[2]\n",
        "T2_opt = res.x[3]\n",
        "\n",
        "P1_opt = K1_opt/(T1_opt*s+1)\n",
        "P2_opt = K2_opt/(T2_opt*s+1)\n",
        "sys_opt = control.parallel(P1_opt, -P2_opt)"
      ]
    },
    {
      "cell_type": "code",
      "execution_count": 27,
      "id": "b64aec63",
      "metadata": {
        "id": "b64aec63",
        "outputId": "3ed07007-80e3-4947-bf89-ba1187298205",
        "colab": {
          "base_uri": "https://localhost:8080/"
        }
      },
      "outputs": [
        {
          "output_type": "stream",
          "name": "stdout",
          "text": [
            "K1= 5.000000000039862\n",
            "T1= 4.999999999971464\n",
            "K2= 2.0000000000393703\n",
            "T2= 1.0000000000134333\n"
          ]
        }
      ],
      "source": [
        "print('K1=', K1_opt)\n",
        "print('T1=', T1_opt)\n",
        "print('K2=', K2_opt)\n",
        "print('T2=', T2_opt)"
      ]
    },
    {
      "cell_type": "markdown",
      "id": "d0a517cc",
      "metadata": {
        "id": "d0a517cc"
      },
      "source": [
        "## Plots"
      ]
    },
    {
      "cell_type": "code",
      "execution_count": 28,
      "id": "d1a5b920",
      "metadata": {
        "id": "d1a5b920"
      },
      "outputs": [],
      "source": [
        "t_opt, y_opt = control.step_response(sys_opt, T=Max_t, T_num=Count_t)"
      ]
    },
    {
      "cell_type": "code",
      "execution_count": 29,
      "id": "a13cc2bb",
      "metadata": {
        "id": "a13cc2bb",
        "outputId": "40516b9f-fab9-47c4-c071-edea417a2cbc",
        "colab": {
          "base_uri": "https://localhost:8080/",
          "height": 472
        }
      },
      "outputs": [
        {
          "output_type": "display_data",
          "data": {
            "text/plain": [
              "<Figure size 640x480 with 1 Axes>"
            ],
            "image/png": "[encoded data removed]"
          },
          "metadata": {}
        }
      ],
      "source": [
        "# Plot step response\n",
        "plt.plot(t_opt,y_opt)\n",
        "plt.scatter(df['t'], df['y'], marker= \".\", color = \"red\")\n",
        "plt.xlabel('Time (s)')\n",
        "plt.ylabel('Output')\n",
        "plt.title('System Step Response')\n",
        "plt.grid()\n",
        "plt.show()"
      ]
    }
  ],
  "metadata": {
    "hide_input": false,
    "kernelspec": {
      "display_name": "Python 3 (ipykernel)",
      "language": "python",
      "name": "python3"
    },
    "language_info": {
      "codemirror_mode": {
        "name": "ipython",
        "version": 3
      },
      "file_extension": ".py",
      "mimetype": "text/x-python",
      "name": "python",
      "nbconvert_exporter": "python",
      "pygments_lexer": "ipython3",
      "version": "3.8.15"
    },
    "colab": {
      "provenance": []
    }
  },
  "nbformat": 4,
  "nbformat_minor": 5
}