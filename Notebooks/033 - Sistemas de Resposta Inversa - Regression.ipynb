{
  "cells": [
    {
      "cell_type": "code",
      "execution_count": null,
      "id": "a98813a7",
      "metadata": {
        "id": "a98813a7"
      },
      "outputs": [],
      "source": [
        "pip install control"
      ]
    },
    {
      "cell_type": "code",
      "execution_count": null,
      "id": "f08cf3cf",
      "metadata": {
        "id": "f08cf3cf"
      },
      "outputs": [],
      "source": [
        "import control"
      ]
    },
    {
      "cell_type": "code",
      "execution_count": null,
      "id": "02f42efc",
      "metadata": {
        "id": "02f42efc"
      },
      "outputs": [],
      "source": [
        "s = control.tf('s')"
      ]
    },
    {
      "cell_type": "code",
      "execution_count": null,
      "id": "26a74d0a",
      "metadata": {
        "id": "26a74d0a"
      },
      "outputs": [],
      "source": [
        "import pandas as pd\n",
        "import numpy as np\n",
        "import matplotlib.pyplot as plt"
      ]
    },
    {
      "cell_type": "markdown",
      "source": [
        "# Inverse Response System"
      ],
      "metadata": {
        "id": "4LfxO3YkSp26"
      },
      "id": "4LfxO3YkSp26"
    },
    {
      "cell_type": "code",
      "source": [
        "K1 = 5.0\n",
        "T1 = 5.0"
      ],
      "metadata": {
        "id": "r5ED8rRfSpOC"
      },
      "id": "r5ED8rRfSpOC",
      "execution_count": null,
      "outputs": []
    },
    {
      "cell_type": "code",
      "source": [
        "P1 = K1/(T1*s+1)"
      ],
      "metadata": {
        "id": "0KgUf68PStPz"
      },
      "id": "0KgUf68PStPz",
      "execution_count": null,
      "outputs": []
    },
    {
      "cell_type": "code",
      "source": [
        "K2 = 2.0\n",
        "T2 = 1.0"
      ],
      "metadata": {
        "id": "qGj3ZY_sStTR"
      },
      "id": "qGj3ZY_sStTR",
      "execution_count": null,
      "outputs": []
    },
    {
      "cell_type": "code",
      "source": [
        "P2 = K2/(T2*s+1)"
      ],
      "metadata": {
        "id": "96b3_TrJStWN"
      },
      "id": "96b3_TrJStWN",
      "execution_count": null,
      "outputs": []
    },
    {
      "cell_type": "code",
      "source": [
        "Process = control.parallel(P1, -P2)"
      ],
      "metadata": {
        "id": "O-D6O2MaStY-"
      },
      "id": "O-D6O2MaStY-",
      "execution_count": null,
      "outputs": []
    },
    {
      "cell_type": "code",
      "source": [
        "t, y = control.step_response(Process)"
      ],
      "metadata": {
        "id": "9Esa6tAaSy9C"
      },
      "id": "9Esa6tAaSy9C",
      "execution_count": null,
      "outputs": []
    },
    {
      "cell_type": "code",
      "source": [
        "# Plot step response\n",
        "plt.figure(1)\n",
        "plt.plot(t, y)\n",
        "plt.xlabel('Time (s)')\n",
        "plt.ylabel('Output')\n",
        "plt.title('System Step Response')\n",
        "plt.grid()\n",
        "plt.show()"
      ],
      "metadata": {
        "id": "vfsCGrvMSzAK"
      },
      "id": "vfsCGrvMSzAK",
      "execution_count": null,
      "outputs": []
    },
    {
      "cell_type": "markdown",
      "source": [
        "## Export Data"
      ],
      "metadata": {
        "id": "YRm_XWSJTP2p"
      },
      "id": "YRm_XWSJTP2p"
    },
    {
      "cell_type": "code",
      "source": [
        "import pandas as pd\n",
        "import numpy as np"
      ],
      "metadata": {
        "id": "oeTse-wfSzDK"
      },
      "id": "oeTse-wfSzDK",
      "execution_count": null,
      "outputs": []
    },
    {
      "cell_type": "code",
      "source": [
        "t = np.transpose(t)\n",
        "y = np.transpose(y)"
      ],
      "metadata": {
        "id": "itdBSYC1TSw0"
      },
      "id": "itdBSYC1TSw0",
      "execution_count": null,
      "outputs": []
    },
    {
      "cell_type": "code",
      "source": [
        "df = pd.DataFrame({'t':t, 'y':y})"
      ],
      "metadata": {
        "id": "Kc70CamQTS5N"
      },
      "id": "Kc70CamQTS5N",
      "execution_count": null,
      "outputs": []
    },
    {
      "cell_type": "code",
      "source": [
        "df.to_excel(\"RespostaInversa.xlsx\", index=False)"
      ],
      "metadata": {
        "id": "D3qcG17CTS8n"
      },
      "id": "D3qcG17CTS8n",
      "execution_count": null,
      "outputs": []
    },
    {
      "cell_type": "markdown",
      "source": [
        "# Parameter Tuning"
      ],
      "metadata": {
        "id": "2KdIBsR9TZSF"
      },
      "id": "2KdIBsR9TZSF"
    },
    {
      "cell_type": "code",
      "execution_count": null,
      "id": "c88ea59a",
      "metadata": {
        "id": "c88ea59a"
      },
      "outputs": [],
      "source": [
        "df = pd.read_excel('RespostaInversa.xlsx')"
      ]
    },
    {
      "cell_type": "code",
      "execution_count": null,
      "id": "e85d3329",
      "metadata": {
        "id": "e85d3329"
      },
      "outputs": [],
      "source": [
        "df.describe()"
      ]
    },
    {
      "cell_type": "code",
      "execution_count": null,
      "id": "eb43443d",
      "metadata": {
        "id": "eb43443d"
      },
      "outputs": [],
      "source": [
        "Max_t = df['t'].max()"
      ]
    },
    {
      "cell_type": "code",
      "execution_count": null,
      "id": "eb4b02b9",
      "metadata": {
        "id": "eb4b02b9"
      },
      "outputs": [],
      "source": [
        "Delta_t = df._get_value(1, 't') - df._get_value(0, 't')"
      ]
    },
    {
      "cell_type": "code",
      "execution_count": null,
      "id": "468c58c3",
      "metadata": {
        "id": "468c58c3"
      },
      "outputs": [],
      "source": [
        "Count_t = len(df['t'])"
      ]
    },
    {
      "cell_type": "markdown",
      "id": "253fa0c3",
      "metadata": {
        "id": "253fa0c3"
      },
      "source": [
        "## Optimize"
      ]
    },
    {
      "cell_type": "code",
      "execution_count": null,
      "id": "a1753892",
      "metadata": {
        "id": "a1753892"
      },
      "outputs": [],
      "source": [
        "from scipy.optimize import minimize\n",
        "from sklearn.metrics import mean_squared_error"
      ]
    },
    {
      "cell_type": "code",
      "execution_count": null,
      "id": "d1034693",
      "metadata": {
        "id": "d1034693"
      },
      "outputs": [],
      "source": [
        "def fun(x):\n",
        "    global df\n",
        "\n",
        "    K1 = x[0]\n",
        "    T1 = x[1]\n",
        "\n",
        "    K2 = x[2]\n",
        "    T2 = x[3]\n",
        "\n",
        "    P1 = K1/(T1*s+1)\n",
        "    P2 = K2/(T2*s+1)\n",
        "    sys = control.parallel(P1, -P2)\n",
        "\n",
        "    # Simulate step response\n",
        "    t_fun, y_fun = control.step_response(sys, T=Max_t, T_num=Count_t)\n",
        "    df_fun = pd.DataFrame({'t_fun':t_fun, 'y_fun':y_fun})\n",
        "\n",
        "    mse = mean_squared_error(df_fun['y_fun'], df['y'])\n",
        "    return mse"
      ]
    },
    {
      "cell_type": "code",
      "execution_count": null,
      "id": "75a9bfcd",
      "metadata": {
        "id": "75a9bfcd"
      },
      "outputs": [],
      "source": [
        "x0 = [1, 1, 1, 1]"
      ]
    },
    {
      "cell_type": "code",
      "source": [
        "bnds = ((0, None), (0, None), (0, None), (0, None))"
      ],
      "metadata": {
        "id": "KamSxaSOWxuO"
      },
      "id": "KamSxaSOWxuO",
      "execution_count": null,
      "outputs": []
    },
    {
      "cell_type": "code",
      "execution_count": null,
      "id": "dfb728f2",
      "metadata": {
        "id": "dfb728f2"
      },
      "outputs": [],
      "source": [
        "res = minimize(fun, x0, method='Powell', bounds=bnds, tol=1e-15)"
      ]
    },
    {
      "cell_type": "code",
      "execution_count": null,
      "id": "5eb01884",
      "metadata": {
        "id": "5eb01884"
      },
      "outputs": [],
      "source": [
        "K1_opt = res.x[0]\n",
        "T1_opt = res.x[1]\n",
        "K2_opt = res.x[2]\n",
        "T2_opt = res.x[3]\n",
        "\n",
        "P1_opt = K1_opt/(T1_opt*s+1)\n",
        "P2_opt = K2_opt/(T2_opt*s+1)\n",
        "sys_opt = control.parallel(P1_opt, -P2_opt)"
      ]
    },
    {
      "cell_type": "code",
      "execution_count": null,
      "id": "b64aec63",
      "metadata": {
        "id": "b64aec63"
      },
      "outputs": [],
      "source": [
        "print('K1=', K1_opt)\n",
        "print('T1=', T1_opt)\n",
        "print('K2=', K2_opt)\n",
        "print('T2=', T2_opt)"
      ]
    },
    {
      "cell_type": "markdown",
      "id": "d0a517cc",
      "metadata": {
        "id": "d0a517cc"
      },
      "source": [
        "## Plots"
      ]
    },
    {
      "cell_type": "code",
      "execution_count": null,
      "id": "d1a5b920",
      "metadata": {
        "id": "d1a5b920"
      },
      "outputs": [],
      "source": [
        "t_opt, y_opt = control.step_response(sys_opt, T=Max_t, T_num=Count_t)"
      ]
    },
    {
      "cell_type": "code",
      "execution_count": null,
      "id": "a13cc2bb",
      "metadata": {
        "id": "a13cc2bb"
      },
      "outputs": [],
      "source": [
        "# Plot step response\n",
        "plt.plot(t_opt,y_opt)\n",
        "plt.scatter(df['t'], df['y'], marker= \".\", color = \"red\")\n",
        "plt.xlabel('Time (s)')\n",
        "plt.ylabel('Output')\n",
        "plt.title('System Step Response')\n",
        "plt.grid()\n",
        "plt.show()"
      ]
    }
  ],
  "metadata": {
    "hide_input": false,
    "kernelspec": {
      "display_name": "Python 3 (ipykernel)",
      "language": "python",
      "name": "python3"
    },
    "language_info": {
      "codemirror_mode": {
        "name": "ipython",
        "version": 3
      },
      "file_extension": ".py",
      "mimetype": "text/x-python",
      "name": "python",
      "nbconvert_exporter": "python",
      "pygments_lexer": "ipython3",
      "version": "3.8.15"
    },
    "colab": {
      "provenance": []
    }
  },
  "nbformat": 4,
  "nbformat_minor": 5
}