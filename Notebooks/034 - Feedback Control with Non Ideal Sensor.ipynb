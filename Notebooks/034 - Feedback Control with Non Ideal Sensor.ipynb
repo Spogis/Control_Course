{
  "cells": [
    {
      "cell_type": "markdown",
      "source": [
        "# Install Python Control Systems Library"
      ],
      "metadata": {
        "id": "7GFdz49u_M4T"
      }
    },
    {
      "cell_type": "code",
      "execution_count": null,
      "metadata": {
        "id": "P1zyUOcM_giB"
      },
      "outputs": [],
      "source": [
        "pip install control"
      ]
    },
    {
      "cell_type": "code",
      "execution_count": null,
      "metadata": {
        "id": "WeCHa6Aj_niZ"
      },
      "outputs": [],
      "source": [
        "import control\n",
        "import matplotlib.pyplot as plt"
      ]
    },
    {
      "cell_type": "code",
      "execution_count": null,
      "metadata": {
        "id": "sComVAaDc9X8"
      },
      "outputs": [],
      "source": [
        "# Define transfer function of the system\n",
        "s = control.tf('s')"
      ]
    },
    {
      "cell_type": "markdown",
      "metadata": {
        "id": "QEETx83Ic9X8"
      },
      "source": [
        "# Process + Non Ideal Sensor -> Feedback Controler"
      ]
    },
    {
      "cell_type": "markdown",
      "source": [
        "![FBC_Sensor.PNG](data:image/png;base64,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)"
      ],
      "metadata": {
        "id": "E-4sxRSD2bre"
      }
    },
    {
      "cell_type": "markdown",
      "source": [
        "## Sensor Step Response"
      ],
      "metadata": {
        "id": "UEsFZdfn7t9C"
      }
    },
    {
      "cell_type": "code",
      "source": [
        "Kp_Sensor = 1\n",
        "Tau_Sensor = 10\n",
        "Sensor_Transfer_Function  = Kp_Sensor/(Tau_Sensor*s + 1)"
      ],
      "metadata": {
        "id": "1ROS_Ymx-rKY"
      },
      "execution_count": null,
      "outputs": []
    },
    {
      "cell_type": "code",
      "source": [
        "# Simulate Sensor step response\n",
        "t_sensor, y_sensor = control.step_response(Sensor_Transfer_Function)"
      ],
      "metadata": {
        "id": "NfmHLbxW-rOy"
      },
      "execution_count": null,
      "outputs": []
    },
    {
      "cell_type": "code",
      "source": [
        "# Plot step response\n",
        "plt.plot(t_sensor, y_sensor)\n",
        "plt.plot([Tau_Sensor, Tau_Sensor], [0, 0.632], 'r--')\n",
        "plt.plot([0, Tau_Sensor], [0.632, 0.632], 'r--')\n",
        "plt.xlabel('Time (s)')\n",
        "plt.ylabel('Output')\n",
        "plt.title('Sensor Step Response')\n",
        "plt.grid()\n",
        "plt.xlim(xmin=0)\n",
        "plt.ylim(ymin=0)\n",
        "plt.show()"
      ],
      "metadata": {
        "id": "MyKX4UqE-zds"
      },
      "execution_count": null,
      "outputs": []
    },
    {
      "cell_type": "markdown",
      "source": [
        "## Process + Controller"
      ],
      "metadata": {
        "id": "RZOnFs7x-r25"
      }
    },
    {
      "cell_type": "code",
      "execution_count": null,
      "metadata": {
        "id": "KzWHyxsK_xpP"
      },
      "outputs": [],
      "source": [
        "Kp= 70.0\n",
        "Tau= 320.0\n",
        "FO  = Kp/(Tau*s + 1)"
      ]
    },
    {
      "cell_type": "code",
      "source": [
        "Delay= 58.0\n",
        "num, den = control.pade(Delay, n=2, numdeg=0)\n",
        "Pade = control.tf(num, den)"
      ],
      "metadata": {
        "id": "JPLHt5Pw406x"
      },
      "execution_count": null,
      "outputs": []
    },
    {
      "cell_type": "code",
      "source": [
        "FOPDT = control.series(FO, Pade)"
      ],
      "metadata": {
        "id": "H0xxdwEj41C5"
      },
      "execution_count": null,
      "outputs": []
    },
    {
      "cell_type": "code",
      "source": [
        "# Define transfer function of the PID controller\n",
        "Kc = 0.1\n",
        "ti = 119.0\n",
        "td = 30.0\n",
        "# Define transfer function of the PID Controller\n",
        "Controller = Kc*(1 + (1/(ti*s)) + (td*s))"
      ],
      "metadata": {
        "id": "SZxVI_YjdyX2"
      },
      "execution_count": null,
      "outputs": []
    },
    {
      "cell_type": "code",
      "source": [
        "Sys_Control = control.series(Controller, FOPDT)"
      ],
      "metadata": {
        "id": "mSVmElfKd0mk"
      },
      "execution_count": null,
      "outputs": []
    },
    {
      "cell_type": "markdown",
      "source": [
        "## Feedback Step Response"
      ],
      "metadata": {
        "id": "lNIUqC_dePsg"
      }
    },
    {
      "cell_type": "code",
      "source": [
        "sys = control.feedback(Sys_Control, Sensor_Transfer_Function, sign=-1)"
      ],
      "metadata": {
        "id": "_sg2vqpZ3fNs"
      },
      "execution_count": null,
      "outputs": []
    },
    {
      "cell_type": "code",
      "execution_count": null,
      "metadata": {
        "id": "BObefGjRBwPx"
      },
      "outputs": [],
      "source": [
        "# Simulate step response\n",
        "t, y = control.step_response(sys)"
      ]
    },
    {
      "cell_type": "code",
      "execution_count": null,
      "metadata": {
        "id": "AvRIgSBwBwWH"
      },
      "outputs": [],
      "source": [
        "# Plot step response\n",
        "plt.plot(t, y)\n",
        "plt.xlabel('Time (s)')\n",
        "plt.ylabel('Output')\n",
        "plt.title('System Step Response')\n",
        "plt.grid()\n",
        "plt.show()"
      ]
    }
  ],
  "metadata": {
    "colab": {
      "provenance": []
    },
    "hide_input": false,
    "kernelspec": {
      "display_name": "Python 3 (ipykernel)",
      "language": "python",
      "name": "python3"
    },
    "language_info": {
      "codemirror_mode": {
        "name": "ipython",
        "version": 3
      },
      "file_extension": ".py",
      "mimetype": "text/x-python",
      "name": "python",
      "nbconvert_exporter": "python",
      "pygments_lexer": "ipython3",
      "version": "3.8.15"
    }
  },
  "nbformat": 4,
  "nbformat_minor": 0
}