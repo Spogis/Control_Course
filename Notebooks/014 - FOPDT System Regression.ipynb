{
 "cells": [
  {
   "cell_type": "code",
   "execution_count": 1,
   "id": "bb7f7614",
   "metadata": {
    "colab": {
     "base_uri": "https://localhost:8080/"
    },
    "id": "bb7f7614",
    "outputId": "ca911a62-e89d-46c2-f326-9bf7885fb706"
   },
   "outputs": [
    {
     "name": "stdout",
     "output_type": "stream",
     "text": [
      "Looking in indexes: https://pypi.org/simple, https://us-python.pkg.dev/colab-wheels/public/simple/\n",
      "Collecting control\n",
      "  Downloading control-0.9.3.post2-py3-none-any.whl (432 kB)\n",
      "\u001b[2K     \u001b[90m━━━━━━━━━━━━━━━━━━━━━━━━━━━━━━━━━━━━━━━\u001b[0m \u001b[32m432.8/432.8 kB\u001b[0m \u001b[31m7.8 MB/s\u001b[0m eta \u001b[36m0:00:00\u001b[0m\n",
      "\u001b[?25hRequirement already satisfied: numpy in /usr/local/lib/python3.10/dist-packages (from control) (1.22.4)\n",
      "Requirement already satisfied: scipy>=1.3 in /usr/local/lib/python3.10/dist-packages (from control) (1.10.1)\n",
      "Requirement already satisfied: matplotlib in /usr/local/lib/python3.10/dist-packages (from control) (3.7.1)\n",
      "Requirement already satisfied: contourpy>=1.0.1 in /usr/local/lib/python3.10/dist-packages (from matplotlib->control) (1.0.7)\n",
      "Requirement already satisfied: cycler>=0.10 in /usr/local/lib/python3.10/dist-packages (from matplotlib->control) (0.11.0)\n",
      "Requirement already satisfied: fonttools>=4.22.0 in /usr/local/lib/python3.10/dist-packages (from matplotlib->control) (4.39.3)\n",
      "Requirement already satisfied: kiwisolver>=1.0.1 in /usr/local/lib/python3.10/dist-packages (from matplotlib->control) (1.4.4)\n",
      "Requirement already satisfied: packaging>=20.0 in /usr/local/lib/python3.10/dist-packages (from matplotlib->control) (23.1)\n",
      "Requirement already satisfied: pillow>=6.2.0 in /usr/local/lib/python3.10/dist-packages (from matplotlib->control) (8.4.0)\n",
      "Requirement already satisfied: pyparsing>=2.3.1 in /usr/local/lib/python3.10/dist-packages (from matplotlib->control) (3.0.9)\n",
      "Requirement already satisfied: python-dateutil>=2.7 in /usr/local/lib/python3.10/dist-packages (from matplotlib->control) (2.8.2)\n",
      "Requirement already satisfied: six>=1.5 in /usr/local/lib/python3.10/dist-packages (from python-dateutil>=2.7->matplotlib->control) (1.16.0)\n",
      "Installing collected packages: control\n",
      "Successfully installed control-0.9.3.post2\n"
     ]
    }
   ],
   "source": [
    "pip install control"
   ]
  },
  {
   "cell_type": "code",
   "execution_count": 2,
   "id": "f08cf3cf",
   "metadata": {
    "id": "f08cf3cf"
   },
   "outputs": [],
   "source": [
    "import control"
   ]
  },
  {
   "cell_type": "code",
   "execution_count": 3,
   "id": "02f42efc",
   "metadata": {
    "id": "02f42efc"
   },
   "outputs": [],
   "source": [
    "s = control.tf('s')"
   ]
  },
  {
   "cell_type": "code",
   "execution_count": 4,
   "id": "26a74d0a",
   "metadata": {
    "id": "26a74d0a"
   },
   "outputs": [],
   "source": [
    "import pandas as pd\n",
    "import numpy as np\n",
    "import matplotlib.pyplot as plt"
   ]
  },
  {
   "cell_type": "code",
   "execution_count": 144,
   "id": "c88ea59a",
   "metadata": {
    "id": "c88ea59a"
   },
   "outputs": [],
   "source": [
    "df = pd.read_excel('Grupo 1.xlsx')"
   ]
  },
  {
   "cell_type": "code",
   "execution_count": 145,
   "id": "e85d3329",
   "metadata": {
    "colab": {
     "base_uri": "https://localhost:8080/",
     "height": 300
    },
    "id": "e85d3329",
    "outputId": "5a8ce1df-fbfc-422c-8994-e19a6d833c78"
   },
   "outputs": [
    {
     "data": {
      "text/html": [
       "\n",
       "  <div id=\"df-eb855767-6b96-4246-9035-2147aac7d710\">\n",
       "    <div class=\"colab-df-container\">\n",
       "      <div>\n",
       "<style scoped>\n",
       "    .dataframe tbody tr th:only-of-type {\n",
       "        vertical-align: middle;\n",
       "    }\n",
       "\n",
       "    .dataframe tbody tr th {\n",
       "        vertical-align: top;\n",
       "    }\n",
       "\n",
       "    .dataframe thead th {\n",
       "        text-align: right;\n",
       "    }\n",
       "</style>\n",
       "<table border=\"1\" class=\"dataframe\">\n",
       "  <thead>\n",
       "    <tr style=\"text-align: right;\">\n",
       "      <th></th>\n",
       "      <th>t</th>\n",
       "      <th>y</th>\n",
       "    </tr>\n",
       "  </thead>\n",
       "  <tbody>\n",
       "    <tr>\n",
       "      <th>count</th>\n",
       "      <td>2501.000000</td>\n",
       "      <td>2501.000000</td>\n",
       "    </tr>\n",
       "    <tr>\n",
       "      <th>mean</th>\n",
       "      <td>1750.000000</td>\n",
       "      <td>30.345166</td>\n",
       "    </tr>\n",
       "    <tr>\n",
       "      <th>std</th>\n",
       "      <td>1010.969169</td>\n",
       "      <td>11.600186</td>\n",
       "    </tr>\n",
       "    <tr>\n",
       "      <th>min</th>\n",
       "      <td>0.000000</td>\n",
       "      <td>0.000000</td>\n",
       "    </tr>\n",
       "    <tr>\n",
       "      <th>25%</th>\n",
       "      <td>875.000000</td>\n",
       "      <td>27.536396</td>\n",
       "    </tr>\n",
       "    <tr>\n",
       "      <th>50%</th>\n",
       "      <td>1750.000000</td>\n",
       "      <td>36.412776</td>\n",
       "    </tr>\n",
       "    <tr>\n",
       "      <th>75%</th>\n",
       "      <td>2625.000000</td>\n",
       "      <td>38.100166</td>\n",
       "    </tr>\n",
       "    <tr>\n",
       "      <th>max</th>\n",
       "      <td>3500.000000</td>\n",
       "      <td>38.423269</td>\n",
       "    </tr>\n",
       "  </tbody>\n",
       "</table>\n",
       "</div>\n",
       "      <button class=\"colab-df-convert\" onclick=\"convertToInteractive('df-eb855767-6b96-4246-9035-2147aac7d710')\"\n",
       "              title=\"Convert this dataframe to an interactive table.\"\n",
       "              style=\"display:none;\">\n",
       "        \n",
       "  <svg xmlns=\"http://www.w3.org/2000/svg\" height=\"24px\"viewBox=\"0 0 24 24\"\n",
       "       width=\"24px\">\n",
       "    <path d=\"M0 0h24v24H0V0z\" fill=\"none\"/>\n",
       "    <path d=\"M18.56 5.44l.94 2.06.94-2.06 2.06-.94-2.06-.94-.94-2.06-.94 2.06-2.06.94zm-11 1L8.5 8.5l.94-2.06 2.06-.94-2.06-.94L8.5 2.5l-.94 2.06-2.06.94zm10 10l.94 2.06.94-2.06 2.06-.94-2.06-.94-.94-2.06-.94 2.06-2.06.94z\"/><path d=\"M17.41 7.96l-1.37-1.37c-.4-.4-.92-.59-1.43-.59-.52 0-1.04.2-1.43.59L10.3 9.45l-7.72 7.72c-.78.78-.78 2.05 0 2.83L4 21.41c.39.39.9.59 1.41.59.51 0 1.02-.2 1.41-.59l7.78-7.78 2.81-2.81c.8-.78.8-2.07 0-2.86zM5.41 20L4 18.59l7.72-7.72 1.47 1.35L5.41 20z\"/>\n",
       "  </svg>\n",
       "      </button>\n",
       "      \n",
       "  <style>\n",
       "    .colab-df-container {\n",
       "      display:flex;\n",
       "      flex-wrap:wrap;\n",
       "      gap: 12px;\n",
       "    }\n",
       "\n",
       "    .colab-df-convert {\n",
       "      background-color: #E8F0FE;\n",
       "      border: none;\n",
       "      border-radius: 50%;\n",
       "      cursor: pointer;\n",
       "      display: none;\n",
       "      fill: #1967D2;\n",
       "      height: 32px;\n",
       "      padding: 0 0 0 0;\n",
       "      width: 32px;\n",
       "    }\n",
       "\n",
       "    .colab-df-convert:hover {\n",
       "      background-color: #E2EBFA;\n",
       "      box-shadow: 0px 1px 2px rgba(60, 64, 67, 0.3), 0px 1px 3px 1px rgba(60, 64, 67, 0.15);\n",
       "      fill: #174EA6;\n",
       "    }\n",
       "\n",
       "    [theme=dark] .colab-df-convert {\n",
       "      background-color: #3B4455;\n",
       "      fill: #D2E3FC;\n",
       "    }\n",
       "\n",
       "    [theme=dark] .colab-df-convert:hover {\n",
       "      background-color: #434B5C;\n",
       "      box-shadow: 0px 1px 3px 1px rgba(0, 0, 0, 0.15);\n",
       "      filter: drop-shadow(0px 1px 2px rgba(0, 0, 0, 0.3));\n",
       "      fill: #FFFFFF;\n",
       "    }\n",
       "  </style>\n",
       "\n",
       "      <script>\n",
       "        const buttonEl =\n",
       "          document.querySelector('#df-eb855767-6b96-4246-9035-2147aac7d710 button.colab-df-convert');\n",
       "        buttonEl.style.display =\n",
       "          google.colab.kernel.accessAllowed ? 'block' : 'none';\n",
       "\n",
       "        async function convertToInteractive(key) {\n",
       "          const element = document.querySelector('#df-eb855767-6b96-4246-9035-2147aac7d710');\n",
       "          const dataTable =\n",
       "            await google.colab.kernel.invokeFunction('convertToInteractive',\n",
       "                                                     [key], {});\n",
       "          if (!dataTable) return;\n",
       "\n",
       "          const docLinkHtml = 'Like what you see? Visit the ' +\n",
       "            '<a target=\"_blank\" href=https://colab.research.google.com/notebooks/data_table.ipynb>data table notebook</a>'\n",
       "            + ' to learn more about interactive tables.';\n",
       "          element.innerHTML = '';\n",
       "          dataTable['output_type'] = 'display_data';\n",
       "          await google.colab.output.renderOutput(dataTable, element);\n",
       "          const docLink = document.createElement('div');\n",
       "          docLink.innerHTML = docLinkHtml;\n",
       "          element.appendChild(docLink);\n",
       "        }\n",
       "      </script>\n",
       "    </div>\n",
       "  </div>\n",
       "  "
      ],
      "text/plain": [
       "                 t            y\n",
       "count  2501.000000  2501.000000\n",
       "mean   1750.000000    30.345166\n",
       "std    1010.969169    11.600186\n",
       "min       0.000000     0.000000\n",
       "25%     875.000000    27.536396\n",
       "50%    1750.000000    36.412776\n",
       "75%    2625.000000    38.100166\n",
       "max    3500.000000    38.423269"
      ]
     },
     "execution_count": 145,
     "metadata": {},
     "output_type": "execute_result"
    }
   ],
   "source": [
    "df.describe()"
   ]
  },
  {
   "cell_type": "code",
   "execution_count": 146,
   "id": "eb43443d",
   "metadata": {
    "id": "eb43443d"
   },
   "outputs": [],
   "source": [
    "Max_t = df['t'].max()"
   ]
  },
  {
   "cell_type": "code",
   "execution_count": 147,
   "id": "eb4b02b9",
   "metadata": {
    "id": "eb4b02b9"
   },
   "outputs": [],
   "source": [
    "Delta_t = df._get_value(1, 't') - df._get_value(0, 't')"
   ]
  },
  {
   "cell_type": "code",
   "execution_count": 148,
   "id": "468c58c3",
   "metadata": {
    "id": "468c58c3"
   },
   "outputs": [],
   "source": [
    "Count_t = len(df['t'])"
   ]
  },
  {
   "cell_type": "markdown",
   "id": "253fa0c3",
   "metadata": {
    "id": "253fa0c3"
   },
   "source": [
    "## Optimize"
   ]
  },
  {
   "cell_type": "code",
   "execution_count": 149,
   "id": "a1753892",
   "metadata": {
    "id": "a1753892"
   },
   "outputs": [],
   "source": [
    "from scipy.optimize import minimize\n",
    "from sklearn.metrics import mean_squared_error"
   ]
  },
  {
   "cell_type": "code",
   "execution_count": 150,
   "id": "d1034693",
   "metadata": {
    "id": "d1034693"
   },
   "outputs": [],
   "source": [
    "def fun(x):\n",
    "    global df\n",
    "    \n",
    "    Kp = x[0]\n",
    "    Tau = x[1]\n",
    "    Delay = x[2]\n",
    "    \n",
    "    sys  = Kp/(Tau*s + 1)\n",
    "    \n",
    "    num, den = control.pade(Delay, n=2, numdeg=0)\n",
    "    Pade = control.tf(num, den)\n",
    "    \n",
    "    FOPDT = control.series(sys, Pade)\n",
    "    \n",
    "    # Simulate step response\n",
    "    t_fun, y_fun = control.step_response(FOPDT, T=Max_t, T_num=Count_t)\n",
    "    df_fun = pd.DataFrame({'t_fun':t_fun, 'y_fun':y_fun})\n",
    "    \n",
    "    mse = mean_squared_error(df_fun['y_fun'], df['y'])\n",
    "    return mse"
   ]
  },
  {
   "cell_type": "code",
   "execution_count": 151,
   "id": "75a9bfcd",
   "metadata": {
    "id": "75a9bfcd"
   },
   "outputs": [],
   "source": [
    "x0 = [1.0, 1.0, 1.0]"
   ]
  },
  {
   "cell_type": "code",
   "execution_count": 152,
   "id": "bk75H6ok82Gg",
   "metadata": {
    "id": "bk75H6ok82Gg"
   },
   "outputs": [],
   "source": [
    "bnds = ((0, None), (0, None), (0, None))"
   ]
  },
  {
   "cell_type": "code",
   "execution_count": 153,
   "id": "dfb728f2",
   "metadata": {
    "id": "dfb728f2"
   },
   "outputs": [],
   "source": [
    "res = minimize(fun, x0, method='L-BFGS-B', bounds=bnds, tol=1e-6)"
   ]
  },
  {
   "cell_type": "code",
   "execution_count": 154,
   "id": "5eb01884",
   "metadata": {
    "id": "5eb01884"
   },
   "outputs": [],
   "source": [
    "Kp_opt = res.x[0]\n",
    "Tau_opt = res.x[1]\n",
    "Delay_opt = res.x[2]\n",
    "\n",
    "sys  = Kp_opt/(Tau_opt*s + 1)\n",
    "\n",
    "num, den = control.pade(Delay_opt, n=2, numdeg=0)\n",
    "Pade = control.tf(num, den)\n",
    "    \n",
    "sys_opt = control.series(sys, Pade)"
   ]
  },
  {
   "cell_type": "code",
   "execution_count": 155,
   "id": "b64aec63",
   "metadata": {
    "colab": {
     "base_uri": "https://localhost:8080/"
    },
    "id": "b64aec63",
    "outputId": "d1ceccd7-2666-4339-9d9f-8b5c16c5ec74"
   },
   "outputs": [
    {
     "name": "stdout",
     "output_type": "stream",
     "text": [
      "Kp= 38.50007891180355\n",
      "Tau= 529.9924965686687\n",
      "Delay= 211.99245536262646\n"
     ]
    }
   ],
   "source": [
    "print('Kp=', Kp_opt)\n",
    "print('Tau=', Tau_opt)\n",
    "print('Delay=', Delay_opt)"
   ]
  },
  {
   "cell_type": "markdown",
   "id": "d0a517cc",
   "metadata": {
    "id": "d0a517cc"
   },
   "source": [
    "## Plots"
   ]
  },
  {
   "cell_type": "code",
   "execution_count": 156,
   "id": "d1a5b920",
   "metadata": {
    "id": "d1a5b920"
   },
   "outputs": [],
   "source": [
    "t_opt, y_opt = control.step_response(sys_opt, T=Max_t, T_num=Count_t)"
   ]
  },
  {
   "cell_type": "code",
   "execution_count": 157,
   "id": "a13cc2bb",
   "metadata": {
    "colab": {
     "base_uri": "https://localhost:8080/",
     "height": 472
    },
    "id": "a13cc2bb",
    "outputId": "2099b8c5-a9c0-4928-9988-13d73a975a63"
   },
   "outputs": [
    {
     "data": {
      "image/png": "[encoded data removed]",
      "text/plain": [
       "<Figure size 640x480 with 1 Axes>"
      ]
     },
     "metadata": {},
     "output_type": "display_data"
    }
   ],
   "source": [
    "# Plot step response\n",
    "plt.plot(t_opt,y_opt)\n",
    "plt.scatter(df['t'], df['y'], marker= \".\", color = \"red\")\n",
    "plt.xlabel('Time (s)')\n",
    "plt.ylabel('Output')\n",
    "plt.title('System Step Response')\n",
    "plt.grid()\n",
    "plt.show()"
   ]
  }
 ],
 "metadata": {
  "colab": {
   "provenance": []
  },
  "hide_input": false,
  "kernelspec": {
   "display_name": "Python 3 (ipykernel)",
   "language": "python",
   "name": "python3"
  },
  "language_info": {
   "codemirror_mode": {
    "name": "ipython",
    "version": 3
   },
   "file_extension": ".py",
   "mimetype": "text/x-python",
   "name": "python",
   "nbconvert_exporter": "python",
   "pygments_lexer": "ipython3",
   "version": "3.9.16"
  }
 },
 "nbformat": 4,
 "nbformat_minor": 5
}
