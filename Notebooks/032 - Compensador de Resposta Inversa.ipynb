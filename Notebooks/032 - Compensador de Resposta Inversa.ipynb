{
  "cells": [
    {
      "cell_type": "code",
      "execution_count": null,
      "id": "c0f36e81",
      "metadata": {
        "id": "c0f36e81"
      },
      "outputs": [],
      "source": [
        "pip install control"
      ]
    },
    {
      "cell_type": "code",
      "execution_count": null,
      "id": "fd0731c7",
      "metadata": {
        "id": "fd0731c7"
      },
      "outputs": [],
      "source": [
        "import control\n",
        "import matplotlib.pyplot as plt\n",
        "import numpy as np\n",
        "import math"
      ]
    },
    {
      "cell_type": "code",
      "execution_count": null,
      "id": "cc395929",
      "metadata": {
        "id": "cc395929"
      },
      "outputs": [],
      "source": [
        "# Define transfer function of the system\n",
        "s = control.tf('s')"
      ]
    },
    {
      "cell_type": "markdown",
      "source": [
        "## Sistemas com Reposta Inversa\n",
        "*   Resposta de fase não mínima\n",
        "*   Direção do comportamento inicial oposto ao\n",
        "final\n",
        "*   Resultante da ação de dois efeitos opostos\n",
        "(ex.: diferença de 2 FT’s)\n",
        "*   A FT possui um zero positivo\n",
        "*   Difíceis de controlar e requerem atenção\n",
        "especial\n",
        "*   Exemplo clássico: **Controle de Nível em uma Caldeira**\n",
        "\n"
      ],
      "metadata": {
        "id": "_4beUvE4N7p7"
      },
      "id": "_4beUvE4N7p7"
    },
    {
      "cell_type": "markdown",
      "source": [
        "![MalhaInversa.PNG](data:image/png;base64,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)"
      ],
      "metadata": {
        "id": "OAHiMxoqPOtv"
      },
      "id": "OAHiMxoqPOtv"
    },
    {
      "cell_type": "markdown",
      "id": "f34345d5",
      "metadata": {
        "id": "f34345d5"
      },
      "source": [
        "# Process"
      ]
    },
    {
      "cell_type": "code",
      "execution_count": null,
      "id": "6b6f4ab3",
      "metadata": {
        "id": "6b6f4ab3"
      },
      "outputs": [],
      "source": [
        "K1 = 5.0\n",
        "T1 = 5.0"
      ]
    },
    {
      "cell_type": "code",
      "source": [
        "P1 = K1/(T1*s+1)"
      ],
      "metadata": {
        "id": "fCTWFRx_vnxq"
      },
      "id": "fCTWFRx_vnxq",
      "execution_count": null,
      "outputs": []
    },
    {
      "cell_type": "code",
      "execution_count": null,
      "id": "12066a5b",
      "metadata": {
        "id": "12066a5b"
      },
      "outputs": [],
      "source": [
        "K2 = 2.0\n",
        "T2 = 1.0"
      ]
    },
    {
      "cell_type": "code",
      "execution_count": null,
      "id": "ec5c6c31",
      "metadata": {
        "id": "ec5c6c31"
      },
      "outputs": [],
      "source": [
        "P2 = K2/(T2*s+1)"
      ]
    },
    {
      "cell_type": "code",
      "execution_count": null,
      "id": "3ce4d0b7",
      "metadata": {
        "id": "3ce4d0b7"
      },
      "outputs": [],
      "source": [
        "Process = control.parallel(P1, -P2)"
      ]
    },
    {
      "cell_type": "code",
      "source": [
        "OpenLoop = Process\n",
        "Poles = control.poles(OpenLoop)\n",
        "Poles"
      ],
      "metadata": {
        "id": "XnA62iC0ztoR"
      },
      "id": "XnA62iC0ztoR",
      "execution_count": null,
      "outputs": []
    },
    {
      "cell_type": "code",
      "source": [
        "roots, gains = control.root_locus(OpenLoop)"
      ],
      "metadata": {
        "id": "k-kvUW-xztrV"
      },
      "id": "k-kvUW-xztrV",
      "execution_count": null,
      "outputs": []
    },
    {
      "cell_type": "code",
      "source": [
        "gm, pm, sm, wpc, wgc, wms = control.stability_margins(OpenLoop)"
      ],
      "metadata": {
        "id": "Qqz7ielgztuD"
      },
      "id": "Qqz7ielgztuD",
      "execution_count": null,
      "outputs": []
    },
    {
      "cell_type": "code",
      "source": [
        "#Gain margin\n",
        "gm"
      ],
      "metadata": {
        "id": "rjF45NWoztxR"
      },
      "id": "rjF45NWoztxR",
      "execution_count": null,
      "outputs": []
    },
    {
      "cell_type": "code",
      "source": [
        "#Phase margin\n",
        "pm"
      ],
      "metadata": {
        "id": "T_k0BBL70Tvr"
      },
      "id": "T_k0BBL70Tvr",
      "execution_count": null,
      "outputs": []
    },
    {
      "cell_type": "code",
      "source": [
        "#Stability margin, the minimum distance from the Nyquist plot to -1\n",
        "sm"
      ],
      "metadata": {
        "id": "WWLtmz080Tze"
      },
      "id": "WWLtmz080Tze",
      "execution_count": null,
      "outputs": []
    },
    {
      "cell_type": "code",
      "source": [
        "#Phase crossover frequency (where phase crosses -180 degrees), which is associated with the gain margin.\n",
        "wpc"
      ],
      "metadata": {
        "id": "RJR1azp50T1_"
      },
      "id": "RJR1azp50T1_",
      "execution_count": null,
      "outputs": []
    },
    {
      "cell_type": "code",
      "source": [
        "#Gain crossover frequency (where gain crosses 1), which is associated with the phase margin.\n",
        "wgc"
      ],
      "metadata": {
        "id": "B58dSKhO0T5G"
      },
      "id": "B58dSKhO0T5G",
      "execution_count": null,
      "outputs": []
    },
    {
      "cell_type": "code",
      "source": [
        "#Stability margin frequency (where Nyquist plot is closest to -1)\n",
        "wms"
      ],
      "metadata": {
        "id": "SJzrUrm90hu6"
      },
      "id": "SJzrUrm90hu6",
      "execution_count": null,
      "outputs": []
    },
    {
      "cell_type": "markdown",
      "source": [
        "### Ganho Limite / Crítico"
      ],
      "metadata": {
        "id": "cWolmrN41ADI"
      },
      "id": "cWolmrN41ADI"
    },
    {
      "cell_type": "code",
      "source": [
        "#Gain margin\n",
        "Kcr = gm\n",
        "Kcr"
      ],
      "metadata": {
        "id": "WtS5hTTJ0_F2"
      },
      "id": "WtS5hTTJ0_F2",
      "execution_count": null,
      "outputs": []
    },
    {
      "cell_type": "markdown",
      "source": [
        "## Calcular o período de oscilação por frequência de cruzamento de fase"
      ],
      "metadata": {
        "id": "95D4etUd1GDq"
      },
      "id": "95D4etUd1GDq"
    },
    {
      "cell_type": "code",
      "source": [
        "#Phase crossover frequency (where phase crosses -180 degrees), which is associated with the gain margin.\n",
        "fKu = wpc/(2*math.pi)\n",
        "Tcr = 1/fKu\n",
        "Tcr"
      ],
      "metadata": {
        "id": "-xvpPN_q0_I3"
      },
      "id": "-xvpPN_q0_I3",
      "execution_count": null,
      "outputs": []
    },
    {
      "cell_type": "markdown",
      "source": [
        "## PI Controller - ZIEGLER e NICHOLS - Método 2"
      ],
      "metadata": {
        "id": "AuKILdB01lHq"
      },
      "id": "AuKILdB01lHq"
    },
    {
      "cell_type": "code",
      "source": [
        "Kc = 0.45*Kcr\n",
        "Kc"
      ],
      "metadata": {
        "id": "Us_v0Zzi1kPu"
      },
      "id": "Us_v0Zzi1kPu",
      "execution_count": null,
      "outputs": []
    },
    {
      "cell_type": "code",
      "source": [
        "ti= Tcr/1.2\n",
        "ti"
      ],
      "metadata": {
        "id": "f9UAOEhJ0_Lu"
      },
      "id": "f9UAOEhJ0_Lu",
      "execution_count": null,
      "outputs": []
    },
    {
      "cell_type": "markdown",
      "source": [
        "# Controlador Feedback PI Simples"
      ],
      "metadata": {
        "id": "Zapqw1nsLhd0"
      },
      "id": "Zapqw1nsLhd0"
    },
    {
      "cell_type": "code",
      "source": [
        "# Define transfer function of the PID Controller\n",
        "PIDControl = Kc *(1 + (1/(ti*s)))"
      ],
      "metadata": {
        "id": "TCBj9v_9LmSs"
      },
      "id": "TCBj9v_9LmSs",
      "execution_count": null,
      "outputs": []
    },
    {
      "cell_type": "code",
      "source": [
        "Series = control.series(PIDControl,Process)"
      ],
      "metadata": {
        "id": "ms-bohTALoIa"
      },
      "id": "ms-bohTALoIa",
      "execution_count": null,
      "outputs": []
    },
    {
      "cell_type": "code",
      "source": [
        "Sys = control.feedback(Series, 1, sign=-1)"
      ],
      "metadata": {
        "id": "HbSO5ACSL22H"
      },
      "id": "HbSO5ACSL22H",
      "execution_count": null,
      "outputs": []
    },
    {
      "cell_type": "code",
      "source": [
        "t, y = control.step_response(Sys)"
      ],
      "metadata": {
        "id": "D_FA25-HMFMd"
      },
      "id": "D_FA25-HMFMd",
      "execution_count": null,
      "outputs": []
    },
    {
      "cell_type": "code",
      "source": [
        "# Plot step response\n",
        "plt.figure(1)\n",
        "plt.plot(t, y)\n",
        "plt.xlabel('Time (s)')\n",
        "plt.ylabel('Output')\n",
        "plt.title('System Step Response')\n",
        "plt.grid()\n",
        "plt.show()"
      ],
      "metadata": {
        "id": "1tTWak4iMHy6"
      },
      "id": "1tTWak4iMHy6",
      "execution_count": null,
      "outputs": []
    },
    {
      "cell_type": "markdown",
      "source": [
        "# Compensador de Resposta Inversa"
      ],
      "metadata": {
        "id": "mUfInvJ-VbJw"
      },
      "id": "mUfInvJ-VbJw"
    },
    {
      "cell_type": "markdown",
      "source": [
        "![Capturar.PNG](data:image/png;base64,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)"
      ],
      "metadata": {
        "id": "gs5IWQlBWcaS"
      },
      "id": "gs5IWQlBWcaS"
    },
    {
      "cell_type": "markdown",
      "source": [
        "## Inner Level"
      ],
      "metadata": {
        "id": "PSdU36eRVnXS"
      },
      "id": "PSdU36eRVnXS"
    },
    {
      "cell_type": "code",
      "source": [
        "# Define transfer function of the PID Controller\n",
        "PIDControl = Kc *(1 + (1/(ti*s)))"
      ],
      "metadata": {
        "id": "Do7CgHkAVioe"
      },
      "id": "Do7CgHkAVioe",
      "execution_count": null,
      "outputs": []
    },
    {
      "cell_type": "code",
      "source": [
        "AlfaEstimado = (K2*T1 - K1*T2)/(T1-T2)\n",
        "AlfaEstimado"
      ],
      "metadata": {
        "id": "GVUfHQWrVq38"
      },
      "id": "GVUfHQWrVq38",
      "execution_count": null,
      "outputs": []
    },
    {
      "cell_type": "code",
      "source": [
        "Alfa = AlfaEstimado"
      ],
      "metadata": {
        "id": "H0d9bsmfVq7g"
      },
      "id": "H0d9bsmfVq7g",
      "execution_count": null,
      "outputs": []
    },
    {
      "cell_type": "code",
      "source": [
        "Compensador = Alfa * control.parallel(1/(T2*s+1), -1/(T1*s+1))\n",
        "Compensador"
      ],
      "metadata": {
        "id": "EG0vZ-4jVq-c"
      },
      "id": "EG0vZ-4jVq-c",
      "execution_count": null,
      "outputs": []
    },
    {
      "cell_type": "code",
      "source": [
        "Inner_Loop = control.feedback(PIDControl, Compensador, sign=-1)"
      ],
      "metadata": {
        "id": "UsK2T4APVrBJ"
      },
      "id": "UsK2T4APVrBJ",
      "execution_count": null,
      "outputs": []
    },
    {
      "cell_type": "markdown",
      "source": [
        "## Outer Level"
      ],
      "metadata": {
        "id": "P3Qnp3cMVxqu"
      },
      "id": "P3Qnp3cMVxqu"
    },
    {
      "cell_type": "code",
      "source": [
        "Outer = control.series(Inner_Loop,Process)"
      ],
      "metadata": {
        "id": "ka6V502IVrEE"
      },
      "id": "ka6V502IVrEE",
      "execution_count": null,
      "outputs": []
    },
    {
      "cell_type": "code",
      "source": [
        "Outer_Loop = control.feedback(Outer, 1, sign=-1)"
      ],
      "metadata": {
        "id": "TyYBvIwpV19p"
      },
      "id": "TyYBvIwpV19p",
      "execution_count": null,
      "outputs": []
    },
    {
      "cell_type": "markdown",
      "source": [
        "## System Step Response"
      ],
      "metadata": {
        "id": "suZOHLySV4QB"
      },
      "id": "suZOHLySV4QB"
    },
    {
      "cell_type": "code",
      "source": [
        "t, y = control.step_response(Outer_Loop)"
      ],
      "metadata": {
        "id": "IPMPs_xrV2CS"
      },
      "id": "IPMPs_xrV2CS",
      "execution_count": null,
      "outputs": []
    },
    {
      "cell_type": "code",
      "source": [
        "# Plot step response\n",
        "plt.figure(1)\n",
        "plt.plot(t, y)\n",
        "plt.xlabel('Time (s)')\n",
        "plt.ylabel('Output')\n",
        "plt.title('System Step Response')\n",
        "plt.grid()\n",
        "plt.show()"
      ],
      "metadata": {
        "id": "upCjIcJfV2Fj"
      },
      "id": "upCjIcJfV2Fj",
      "execution_count": null,
      "outputs": []
    }
  ],
  "metadata": {
    "hide_input": false,
    "kernelspec": {
      "display_name": "Python 3 (ipykernel)",
      "language": "python",
      "name": "python3"
    },
    "language_info": {
      "codemirror_mode": {
        "name": "ipython",
        "version": 3
      },
      "file_extension": ".py",
      "mimetype": "text/x-python",
      "name": "python",
      "nbconvert_exporter": "python",
      "pygments_lexer": "ipython3",
      "version": "3.9.16"
    },
    "colab": {
      "provenance": []
    }
  },
  "nbformat": 4,
  "nbformat_minor": 5
}