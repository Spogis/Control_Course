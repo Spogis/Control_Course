{
 "cells": [
  {
   "cell_type": "code",
   "execution_count": null,
   "id": "a98813a7",
   "metadata": {},
   "outputs": [],
   "source": [
    "pip install control"
   ]
  },
  {
   "cell_type": "code",
   "execution_count": 1,
   "id": "f08cf3cf",
   "metadata": {},
   "outputs": [],
   "source": [
    "import control"
   ]
  },
  {
   "cell_type": "code",
   "execution_count": 2,
   "id": "02f42efc",
   "metadata": {},
   "outputs": [],
   "source": [
    "s = control.tf('s')"
   ]
  },
  {
   "cell_type": "code",
   "execution_count": 3,
   "id": "26a74d0a",
   "metadata": {},
   "outputs": [],
   "source": [
    "import pandas as pd\n",
    "import numpy as np\n",
    "import matplotlib.pyplot as plt"
   ]
  },
  {
   "cell_type": "code",
   "execution_count": 4,
   "id": "c88ea59a",
   "metadata": {},
   "outputs": [],
   "source": [
    "df = pd.read_excel('SO.xlsx')"
   ]
  },
  {
   "cell_type": "code",
   "execution_count": 5,
   "id": "e85d3329",
   "metadata": {},
   "outputs": [
    {
     "data": {
      "text/html": [
       "<div>\n",
       "<style scoped>\n",
       "    .dataframe tbody tr th:only-of-type {\n",
       "        vertical-align: middle;\n",
       "    }\n",
       "\n",
       "    .dataframe tbody tr th {\n",
       "        vertical-align: top;\n",
       "    }\n",
       "\n",
       "    .dataframe thead th {\n",
       "        text-align: right;\n",
       "    }\n",
       "</style>\n",
       "<table border=\"1\" class=\"dataframe\">\n",
       "  <thead>\n",
       "    <tr style=\"text-align: right;\">\n",
       "      <th></th>\n",
       "      <th>t</th>\n",
       "      <th>y</th>\n",
       "    </tr>\n",
       "  </thead>\n",
       "  <tbody>\n",
       "    <tr>\n",
       "      <th>count</th>\n",
       "      <td>2501.000000</td>\n",
       "      <td>2501.000000</td>\n",
       "    </tr>\n",
       "    <tr>\n",
       "      <th>mean</th>\n",
       "      <td>1250.000000</td>\n",
       "      <td>0.919894</td>\n",
       "    </tr>\n",
       "    <tr>\n",
       "      <th>std</th>\n",
       "      <td>722.120835</td>\n",
       "      <td>0.271625</td>\n",
       "    </tr>\n",
       "    <tr>\n",
       "      <th>min</th>\n",
       "      <td>0.000000</td>\n",
       "      <td>0.000000</td>\n",
       "    </tr>\n",
       "    <tr>\n",
       "      <th>25%</th>\n",
       "      <td>625.000000</td>\n",
       "      <td>0.975437</td>\n",
       "    </tr>\n",
       "    <tr>\n",
       "      <th>50%</th>\n",
       "      <td>1250.000000</td>\n",
       "      <td>1.001276</td>\n",
       "    </tr>\n",
       "    <tr>\n",
       "      <th>75%</th>\n",
       "      <td>1875.000000</td>\n",
       "      <td>1.024385</td>\n",
       "    </tr>\n",
       "    <tr>\n",
       "      <th>max</th>\n",
       "      <td>2500.000000</td>\n",
       "      <td>1.163033</td>\n",
       "    </tr>\n",
       "  </tbody>\n",
       "</table>\n",
       "</div>"
      ],
      "text/plain": [
       "                 t            y\n",
       "count  2501.000000  2501.000000\n",
       "mean   1250.000000     0.919894\n",
       "std     722.120835     0.271625\n",
       "min       0.000000     0.000000\n",
       "25%     625.000000     0.975437\n",
       "50%    1250.000000     1.001276\n",
       "75%    1875.000000     1.024385\n",
       "max    2500.000000     1.163033"
      ]
     },
     "execution_count": 5,
     "metadata": {},
     "output_type": "execute_result"
    }
   ],
   "source": [
    "df.describe()"
   ]
  },
  {
   "cell_type": "code",
   "execution_count": 6,
   "id": "eb43443d",
   "metadata": {},
   "outputs": [],
   "source": [
    "Max_t = df['t'].max()"
   ]
  },
  {
   "cell_type": "code",
   "execution_count": 7,
   "id": "eb4b02b9",
   "metadata": {},
   "outputs": [],
   "source": [
    "Delta_t = df._get_value(1, 't') - df._get_value(0, 't')"
   ]
  },
  {
   "cell_type": "code",
   "execution_count": 8,
   "id": "468c58c3",
   "metadata": {},
   "outputs": [],
   "source": [
    "Count_t = len(df['t'])"
   ]
  },
  {
   "cell_type": "markdown",
   "id": "253fa0c3",
   "metadata": {},
   "source": [
    "## Optimize"
   ]
  },
  {
   "cell_type": "code",
   "execution_count": 9,
   "id": "a1753892",
   "metadata": {},
   "outputs": [],
   "source": [
    "from scipy.optimize import minimize\n",
    "from sklearn.metrics import mean_squared_error"
   ]
  },
  {
   "cell_type": "code",
   "execution_count": 10,
   "id": "d1034693",
   "metadata": {},
   "outputs": [],
   "source": [
    "def fun(x):\n",
    "    global df\n",
    "    \n",
    "    Tau = x[0]\n",
    "    Zeta = x[1]\n",
    "    K = x[2]\n",
    "    \n",
    "    A = Tau**2\n",
    "    B = 2*Zeta*Tau\n",
    "    C = 1\n",
    "    sys = K/(A*s**2 + B*s + 1)\n",
    "    \n",
    "    # Simulate step response\n",
    "    t_fun, y_fun = control.step_response(sys, T=Max_t, T_num=Count_t)\n",
    "    df_fun = pd.DataFrame({'t_fun':t_fun, 'y_fun':y_fun})\n",
    "    \n",
    "    mse = mean_squared_error(df_fun['y_fun'], df['y'])\n",
    "    return mse"
   ]
  },
  {
   "cell_type": "code",
   "execution_count": 11,
   "id": "75a9bfcd",
   "metadata": {},
   "outputs": [],
   "source": [
    "x0 = [1, 1, 1]"
   ]
  },
  {
   "cell_type": "code",
   "execution_count": 12,
   "id": "dfb728f2",
   "metadata": {},
   "outputs": [],
   "source": [
    "res = minimize(fun, x0, method='Powell', tol=1e-6)"
   ]
  },
  {
   "cell_type": "code",
   "execution_count": 13,
   "id": "5eb01884",
   "metadata": {},
   "outputs": [],
   "source": [
    "Tau_opt = res.x[0]\n",
    "Zeta_opt = res.x[1]\n",
    "K_opt = res.x[2]\n",
    "A_opt = Tau_opt**2\n",
    "B_opt = 2*Zeta_opt*Tau_opt\n",
    "C_opt = 1\n",
    "sys_opt = K_opt/(A_opt*s**2 + B_opt*s + 1)"
   ]
  },
  {
   "cell_type": "code",
   "execution_count": 14,
   "id": "b64aec63",
   "metadata": {},
   "outputs": [
    {
     "name": "stdout",
     "output_type": "stream",
     "text": [
      "Tau= 200.000000000154\n",
      "Zeta= 0.4999999999994305\n",
      "Kp= 0.9999999999992688\n"
     ]
    }
   ],
   "source": [
    "print('Tau=', Tau_opt)\n",
    "print('Zeta=', Zeta_opt)\n",
    "print('Kp=', K_opt)"
   ]
  },
  {
   "cell_type": "markdown",
   "id": "d0a517cc",
   "metadata": {},
   "source": [
    "## Plots"
   ]
  },
  {
   "cell_type": "code",
   "execution_count": 15,
   "id": "d1a5b920",
   "metadata": {},
   "outputs": [],
   "source": [
    "t_opt, y_opt = control.step_response(sys_opt, T=Max_t, T_num=Count_t)"
   ]
  },
  {
   "cell_type": "code",
   "execution_count": 16,
   "id": "a13cc2bb",
   "metadata": {},
   "outputs": [
    {
     "data": {
      "image/png": "[encoded data removed]",
      "text/plain": [
       "<Figure size 640x480 with 1 Axes>"
      ]
     },
     "metadata": {},
     "output_type": "display_data"
    }
   ],
   "source": [
    "# Plot step response\n",
    "plt.plot(t_opt,y_opt)\n",
    "plt.scatter(df['t'], df['y'], marker= \".\", color = \"red\")\n",
    "plt.xlabel('Time (s)')\n",
    "plt.ylabel('Output')\n",
    "plt.title('System Step Response')\n",
    "plt.grid()\n",
    "plt.show()"
   ]
  }
 ],
 "metadata": {
  "hide_input": false,
  "kernelspec": {
   "display_name": "Python 3 (ipykernel)",
   "language": "python",
   "name": "python3"
  },
  "language_info": {
   "codemirror_mode": {
    "name": "ipython",
    "version": 3
   },
   "file_extension": ".py",
   "mimetype": "text/x-python",
   "name": "python",
   "nbconvert_exporter": "python",
   "pygments_lexer": "ipython3",
   "version": "3.8.15"
  }
 },
 "nbformat": 4,
 "nbformat_minor": 5
}
