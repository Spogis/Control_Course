{
 "cells": [
  {
   "cell_type": "code",
   "execution_count": 1,
   "id": "bb7f7614",
   "metadata": {},
   "outputs": [],
   "source": [
    "#pip install control"
   ]
  },
  {
   "cell_type": "code",
   "execution_count": 2,
   "id": "f08cf3cf",
   "metadata": {},
   "outputs": [],
   "source": [
    "import control"
   ]
  },
  {
   "cell_type": "code",
   "execution_count": 3,
   "id": "02f42efc",
   "metadata": {},
   "outputs": [],
   "source": [
    "s = control.tf('s')"
   ]
  },
  {
   "cell_type": "code",
   "execution_count": 4,
   "id": "26a74d0a",
   "metadata": {},
   "outputs": [],
   "source": [
    "import pandas as pd\n",
    "import numpy as np\n",
    "import matplotlib.pyplot as plt"
   ]
  },
  {
   "cell_type": "code",
   "execution_count": 5,
   "id": "c88ea59a",
   "metadata": {},
   "outputs": [],
   "source": [
    "df = pd.read_excel('SOPDT.xlsx')"
   ]
  },
  {
   "cell_type": "code",
   "execution_count": 6,
   "id": "e85d3329",
   "metadata": {},
   "outputs": [
    {
     "data": {
      "text/html": [
       "<div>\n",
       "<style scoped>\n",
       "    .dataframe tbody tr th:only-of-type {\n",
       "        vertical-align: middle;\n",
       "    }\n",
       "\n",
       "    .dataframe tbody tr th {\n",
       "        vertical-align: top;\n",
       "    }\n",
       "\n",
       "    .dataframe thead th {\n",
       "        text-align: right;\n",
       "    }\n",
       "</style>\n",
       "<table border=\"1\" class=\"dataframe\">\n",
       "  <thead>\n",
       "    <tr style=\"text-align: right;\">\n",
       "      <th></th>\n",
       "      <th>t</th>\n",
       "      <th>y</th>\n",
       "    </tr>\n",
       "  </thead>\n",
       "  <tbody>\n",
       "    <tr>\n",
       "      <th>count</th>\n",
       "      <td>2501.000000</td>\n",
       "      <td>2501.000000</td>\n",
       "    </tr>\n",
       "    <tr>\n",
       "      <th>mean</th>\n",
       "      <td>1250.000000</td>\n",
       "      <td>1.719784</td>\n",
       "    </tr>\n",
       "    <tr>\n",
       "      <th>std</th>\n",
       "      <td>722.120835</td>\n",
       "      <td>0.672193</td>\n",
       "    </tr>\n",
       "    <tr>\n",
       "      <th>min</th>\n",
       "      <td>0.000000</td>\n",
       "      <td>0.000000</td>\n",
       "    </tr>\n",
       "    <tr>\n",
       "      <th>25%</th>\n",
       "      <td>625.000000</td>\n",
       "      <td>1.951081</td>\n",
       "    </tr>\n",
       "    <tr>\n",
       "      <th>50%</th>\n",
       "      <td>1250.000000</td>\n",
       "      <td>1.998976</td>\n",
       "    </tr>\n",
       "    <tr>\n",
       "      <th>75%</th>\n",
       "      <td>1875.000000</td>\n",
       "      <td>2.007628</td>\n",
       "    </tr>\n",
       "    <tr>\n",
       "      <th>max</th>\n",
       "      <td>2500.000000</td>\n",
       "      <td>2.307686</td>\n",
       "    </tr>\n",
       "  </tbody>\n",
       "</table>\n",
       "</div>"
      ],
      "text/plain": [
       "                 t            y\n",
       "count  2501.000000  2501.000000\n",
       "mean   1250.000000     1.719784\n",
       "std     722.120835     0.672193\n",
       "min       0.000000     0.000000\n",
       "25%     625.000000     1.951081\n",
       "50%    1250.000000     1.998976\n",
       "75%    1875.000000     2.007628\n",
       "max    2500.000000     2.307686"
      ]
     },
     "execution_count": 6,
     "metadata": {},
     "output_type": "execute_result"
    }
   ],
   "source": [
    "df.describe()"
   ]
  },
  {
   "cell_type": "code",
   "execution_count": 7,
   "id": "eb43443d",
   "metadata": {},
   "outputs": [],
   "source": [
    "Max_t = df['t'].max()"
   ]
  },
  {
   "cell_type": "code",
   "execution_count": 8,
   "id": "eb4b02b9",
   "metadata": {},
   "outputs": [],
   "source": [
    "Delta_t = df._get_value(1, 't') - df._get_value(0, 't')"
   ]
  },
  {
   "cell_type": "code",
   "execution_count": 9,
   "id": "468c58c3",
   "metadata": {},
   "outputs": [],
   "source": [
    "Count_t = len(df['t'])"
   ]
  },
  {
   "cell_type": "markdown",
   "id": "253fa0c3",
   "metadata": {},
   "source": [
    "## Optimize"
   ]
  },
  {
   "cell_type": "code",
   "execution_count": 10,
   "id": "a1753892",
   "metadata": {},
   "outputs": [],
   "source": [
    "from scipy.optimize import minimize\n",
    "from sklearn.metrics import mean_squared_error"
   ]
  },
  {
   "cell_type": "code",
   "execution_count": 11,
   "id": "d1034693",
   "metadata": {},
   "outputs": [],
   "source": [
    "def fun(x):\n",
    "    global df\n",
    "    \n",
    "    #Process Gain\n",
    "    Kp = x[0]\n",
    "    \n",
    "    #Natural Period of Oscillation\n",
    "    Tau = x[1]\n",
    "    \n",
    "    #Damping Factor (zeta)\n",
    "    Zeta = x[2]\n",
    "    \n",
    "    #Delay\n",
    "    Delay = x[3]\n",
    "  \n",
    "    A = Tau**2\n",
    "    B = 2*Zeta*Tau\n",
    "    C = 1\n",
    "    sys = Kp/(A*s**2 + B*s + 1)\n",
    "       \n",
    "    num, den = control.pade(Delay, n=2, numdeg=0)\n",
    "    Pade = control.tf(num, den)\n",
    "    \n",
    "    SOPDT = control.series(sys, Pade)\n",
    "      \n",
    "    # Simulate step response\n",
    "    t_fun, y_fun = control.step_response(SOPDT, T=Max_t, T_num=Count_t)\n",
    "    df_fun = pd.DataFrame({'t_fun':t_fun, 'y_fun':y_fun})\n",
    "    \n",
    "    mse = mean_squared_error(df_fun['y_fun'], df['y'])\n",
    "    return mse"
   ]
  },
  {
   "cell_type": "code",
   "execution_count": 12,
   "id": "0f8e8ee0",
   "metadata": {},
   "outputs": [],
   "source": [
    "ChuteKp= df['y'].max()-df['y'].min()\n",
    "ChuteTau = (df['t'].max()-df['t'].min())/5\n",
    "ChuteDelay = ChuteTau/10\n",
    "ChuteZeta = 1.0"
   ]
  },
  {
   "cell_type": "code",
   "execution_count": 13,
   "id": "75a9bfcd",
   "metadata": {},
   "outputs": [],
   "source": [
    "x0 = [ChuteKp, ChuteTau, ChuteZeta, ChuteDelay]"
   ]
  },
  {
   "cell_type": "code",
   "execution_count": 14,
   "id": "2295d92e",
   "metadata": {},
   "outputs": [],
   "source": [
    "bnds = ((0, None), (0, None), (0, None), (0, None))"
   ]
  },
  {
   "cell_type": "code",
   "execution_count": 15,
   "id": "dfb728f2",
   "metadata": {},
   "outputs": [],
   "source": [
    "res = minimize(fun, x0, method='Nelder-Mead', bounds=bnds, tol=1e-6)"
   ]
  },
  {
   "cell_type": "code",
   "execution_count": 16,
   "id": "5eb01884",
   "metadata": {},
   "outputs": [],
   "source": [
    "Kp_opt = res.x[0]\n",
    "Tau_opt = res.x[1]\n",
    "Zeta_opt = res.x[2]\n",
    "Delay_opt = res.x[3]\n",
    "\n",
    "A = Tau_opt**2\n",
    "B = 2*Zeta_opt*Tau_opt\n",
    "C = 1\n",
    "sys = Kp_opt/(A*s**2 + B*s + 1)\n",
    "\n",
    "num, den = control.pade(Delay_opt, n=2, numdeg=0)\n",
    "Pade = control.tf(num, den)\n",
    "    \n",
    "sys_opt = control.series(sys, Pade)"
   ]
  },
  {
   "cell_type": "code",
   "execution_count": 17,
   "id": "b64aec63",
   "metadata": {},
   "outputs": [
    {
     "name": "stdout",
     "output_type": "stream",
     "text": [
      "Kp= 2.000000000464552\n",
      "Tau= 149.99999974081757\n",
      "Zeta= 0.5000000002601392\n",
      "Delay= 200.00000031303063\n"
     ]
    }
   ],
   "source": [
    "print('Kp=', Kp_opt)\n",
    "print('Tau=', Tau_opt)\n",
    "print('Zeta=', Zeta_opt)\n",
    "print('Delay=', Delay_opt)"
   ]
  },
  {
   "cell_type": "markdown",
   "id": "d0a517cc",
   "metadata": {},
   "source": [
    "## Plots"
   ]
  },
  {
   "cell_type": "code",
   "execution_count": 18,
   "id": "d1a5b920",
   "metadata": {},
   "outputs": [],
   "source": [
    "t_opt, y_opt = control.step_response(sys_opt, T=Max_t, T_num=Count_t)"
   ]
  },
  {
   "cell_type": "code",
   "execution_count": 20,
   "id": "a13cc2bb",
   "metadata": {},
   "outputs": [
    {
     "data": {
      "image/png": "[encoded data removed]",
      "text/plain": [
       "<Figure size 640x480 with 1 Axes>"
      ]
     },
     "metadata": {},
     "output_type": "display_data"
    }
   ],
   "source": [
    "# Plot step response\n",
    "plt.plot(t_opt,y_opt)\n",
    "plt.scatter(df['t'], df['y'], marker= \".\", color = \"red\")\n",
    "plt.xlabel('Time (s)')\n",
    "plt.ylabel('Output')\n",
    "plt.title('SOPDT System Step Response')\n",
    "plt.grid()\n",
    "plt.show()"
   ]
  },
  {
   "cell_type": "code",
   "execution_count": null,
   "id": "4c291179",
   "metadata": {},
   "outputs": [],
   "source": []
  }
 ],
 "metadata": {
  "hide_input": false,
  "kernelspec": {
   "display_name": "Python 3 (ipykernel)",
   "language": "python",
   "name": "python3"
  },
  "language_info": {
   "codemirror_mode": {
    "name": "ipython",
    "version": 3
   },
   "file_extension": ".py",
   "mimetype": "text/x-python",
   "name": "python",
   "nbconvert_exporter": "python",
   "pygments_lexer": "ipython3",
   "version": "3.8.15"
  }
 },
 "nbformat": 4,
 "nbformat_minor": 5
}
