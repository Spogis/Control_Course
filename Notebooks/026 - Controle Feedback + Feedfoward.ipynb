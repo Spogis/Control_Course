{
 "cells": [
  {
   "cell_type": "code",
   "execution_count": 1,
   "id": "f92bf518",
   "metadata": {},
   "outputs": [],
   "source": [
    "pip install control"
   ]
  },
  {
   "cell_type": "code",
   "execution_count": 2,
   "id": "ee450ffa",
   "metadata": {},
   "outputs": [],
   "source": [
    "import control\n",
    "import matplotlib.pyplot as plt\n",
    "import numpy as np"
   ]
  },
  {
   "cell_type": "code",
   "execution_count": 3,
   "id": "810d5b9c",
   "metadata": {},
   "outputs": [],
   "source": [
    "# Define transfer function of the system\n",
    "s = control.tf('s')"
   ]
  },
  {
   "cell_type": "markdown",
   "id": "3b685016",
   "metadata": {},
   "source": [
    "# Process"
   ]
  },
  {
   "cell_type": "code",
   "execution_count": 4,
   "id": "c1971412",
   "metadata": {},
   "outputs": [],
   "source": [
    "Kp_Process = 70\n",
    "Tau_Process = 320\n",
    "Delay_Process = 60"
   ]
  },
  {
   "cell_type": "code",
   "execution_count": 5,
   "id": "3d673c45",
   "metadata": {},
   "outputs": [],
   "source": [
    "G_Process = Kp_Process/(Tau_Process*s+1)"
   ]
  },
  {
   "cell_type": "code",
   "execution_count": 6,
   "id": "bf7f5799",
   "metadata": {},
   "outputs": [],
   "source": [
    "num, den = control.pade(Delay_Process, n=2, numdeg=0)\n",
    "Pade_Process = control.tf(num, den)"
   ]
  },
  {
   "cell_type": "code",
   "execution_count": 7,
   "id": "5e85c704",
   "metadata": {},
   "outputs": [
    {
     "data": {
      "text/latex": [
       "$$\\frac{0.03889}{320 s^3 + 11.67 s^2 + 0.2111 s + 0.0005556}$$"
      ],
      "text/plain": [
       "TransferFunction(array([0.03888889]), array([3.20000000e+02, 1.16666667e+01, 2.11111111e-01, 5.55555556e-04]))"
      ]
     },
     "execution_count": 7,
     "metadata": {},
     "output_type": "execute_result"
    }
   ],
   "source": [
    "FOPDT_Process = control.series(G_Process, Pade_Process)\n",
    "FOPDT_Process"
   ]
  },
  {
   "cell_type": "code",
   "execution_count": 8,
   "id": "641c727c",
   "metadata": {},
   "outputs": [],
   "source": [
    "t, y = control.step_response(FOPDT_Process)"
   ]
  },
  {
   "cell_type": "code",
   "execution_count": 9,
   "id": "b772ecf2",
   "metadata": {},
   "outputs": [],
   "source": [
    "tmax = t.max()"
   ]
  },
  {
   "cell_type": "code",
   "execution_count": 10,
   "id": "a8433581",
   "metadata": {},
   "outputs": [
    {
     "data": {
      "image/png": "[encoded data removed]",
      "text/plain": [
       "<Figure size 640x480 with 1 Axes>"
      ]
     },
     "metadata": {},
     "output_type": "display_data"
    }
   ],
   "source": [
    "# Plot step response\n",
    "plt.figure(1)\n",
    "plt.plot(t, y)\n",
    "plt.xlabel('Time (s)')\n",
    "plt.ylabel('Output')\n",
    "plt.title('System Step Response')\n",
    "plt.grid()\n",
    "plt.show()"
   ]
  },
  {
   "cell_type": "markdown",
   "id": "0f92c699",
   "metadata": {},
   "source": [
    "# Final Element"
   ]
  },
  {
   "cell_type": "code",
   "execution_count": 11,
   "id": "0f5ac447",
   "metadata": {},
   "outputs": [],
   "source": [
    "K_Final_Element = 1\n",
    "Tau_Final_Element = 0\n",
    "Delay_Final_Element = 0"
   ]
  },
  {
   "cell_type": "code",
   "execution_count": 12,
   "id": "106fb70a",
   "metadata": {},
   "outputs": [],
   "source": [
    "G_Final_Element = K_Final_Element/(Tau_Final_Element*s+1)"
   ]
  },
  {
   "cell_type": "code",
   "execution_count": 13,
   "id": "26ca0e24",
   "metadata": {},
   "outputs": [],
   "source": [
    "num, den = control.pade(Delay_Final_Element, n=2, numdeg=0)\n",
    "Pade_Final_Element = control.tf(num, den)"
   ]
  },
  {
   "cell_type": "code",
   "execution_count": 14,
   "id": "2938521e",
   "metadata": {},
   "outputs": [
    {
     "data": {
      "text/latex": [
       "$$\\frac{1}{1}$$"
      ],
      "text/plain": [
       "TransferFunction(array([1.]), array([1.]))"
      ]
     },
     "execution_count": 14,
     "metadata": {},
     "output_type": "execute_result"
    }
   ],
   "source": [
    "FOPDT_Final_Element = control.series(G_Final_Element, Pade_Final_Element)\n",
    "FOPDT_Final_Element"
   ]
  },
  {
   "cell_type": "markdown",
   "id": "e12c111a",
   "metadata": {},
   "source": [
    "# Disturbance"
   ]
  },
  {
   "cell_type": "code",
   "execution_count": 15,
   "id": "0e9e0d52",
   "metadata": {},
   "outputs": [],
   "source": [
    "K_disturbance = 1\n",
    "Tau_disturbance = 320\n",
    "Delay_disturbance = 60"
   ]
  },
  {
   "cell_type": "code",
   "execution_count": 16,
   "id": "39cd43a1",
   "metadata": {},
   "outputs": [],
   "source": [
    "G_disturbance = K_disturbance/(Tau_disturbance*s+1)"
   ]
  },
  {
   "cell_type": "code",
   "execution_count": 17,
   "id": "7580cc26",
   "metadata": {},
   "outputs": [],
   "source": [
    "num, den = control.pade(Delay_disturbance, n=2, numdeg=0)\n",
    "Pade_disturbance = control.tf(num, den)"
   ]
  },
  {
   "cell_type": "code",
   "execution_count": 18,
   "id": "1fd1f23e",
   "metadata": {},
   "outputs": [],
   "source": [
    "FOPDT_disturbance = control.series(G_disturbance, Pade_disturbance)"
   ]
  },
  {
   "cell_type": "code",
   "execution_count": 19,
   "id": "7bd88a55",
   "metadata": {},
   "outputs": [
    {
     "data": {
      "text/latex": [
       "$$\\frac{0.0005556}{320 s^3 + 11.67 s^2 + 0.2111 s + 0.0005556}$$"
      ],
      "text/plain": [
       "TransferFunction(array([0.00055556]), array([3.20000000e+02, 1.16666667e+01, 2.11111111e-01, 5.55555556e-04]))"
      ]
     },
     "execution_count": 19,
     "metadata": {},
     "output_type": "execute_result"
    }
   ],
   "source": [
    "FOPDT_disturbance"
   ]
  },
  {
   "cell_type": "markdown",
   "id": "41fe9df9",
   "metadata": {},
   "source": [
    "# Sensor 1 - Feedback Sensor"
   ]
  },
  {
   "cell_type": "code",
   "execution_count": 20,
   "id": "fd1ebf90",
   "metadata": {},
   "outputs": [],
   "source": [
    "K_Sensor1 = 1\n",
    "Tau_Sensor1 = 0\n",
    "Delay_Sensor1 = 0.0"
   ]
  },
  {
   "cell_type": "code",
   "execution_count": 21,
   "id": "c9197aa3",
   "metadata": {},
   "outputs": [],
   "source": [
    "G_Sensor1 = K_Sensor1/(Tau_Sensor1*s+1)"
   ]
  },
  {
   "cell_type": "code",
   "execution_count": 22,
   "id": "57c8392d",
   "metadata": {},
   "outputs": [],
   "source": [
    "num, den = control.pade(Delay_Sensor1, n=2, numdeg=0)\n",
    "Pade_Sensor1 = control.tf(num, den)"
   ]
  },
  {
   "cell_type": "code",
   "execution_count": 23,
   "id": "1e2d90d9",
   "metadata": {},
   "outputs": [
    {
     "data": {
      "text/latex": [
       "$$\\frac{1}{1}$$"
      ],
      "text/plain": [
       "TransferFunction(array([1.]), array([1.]))"
      ]
     },
     "execution_count": 23,
     "metadata": {},
     "output_type": "execute_result"
    }
   ],
   "source": [
    "FOPDT_Sensor1 = control.series(G_Sensor1, Pade_Sensor1)\n",
    "FOPDT_Sensor1"
   ]
  },
  {
   "cell_type": "markdown",
   "id": "4a7116ae",
   "metadata": {},
   "source": [
    "# Sensor 2 - Feedfoward Sensor"
   ]
  },
  {
   "cell_type": "code",
   "execution_count": 24,
   "id": "0dfd773e",
   "metadata": {},
   "outputs": [],
   "source": [
    "K_Sensor2 = 1\n",
    "Tau_Sensor2 = 0\n",
    "Delay_Sensor2 = 0.0"
   ]
  },
  {
   "cell_type": "code",
   "execution_count": 25,
   "id": "97f64bad",
   "metadata": {},
   "outputs": [],
   "source": [
    "G_Sensor2 = K_Sensor2/(Tau_Sensor2*s+1)"
   ]
  },
  {
   "cell_type": "code",
   "execution_count": 26,
   "id": "9fc87f2b",
   "metadata": {},
   "outputs": [],
   "source": [
    "num, den = control.pade(Delay_Sensor2, n=2, numdeg=0)\n",
    "Pade_Sensor2 = control.tf(num, den)"
   ]
  },
  {
   "cell_type": "code",
   "execution_count": 27,
   "id": "18934fd2",
   "metadata": {},
   "outputs": [
    {
     "data": {
      "text/latex": [
       "$$\\frac{1}{1}$$"
      ],
      "text/plain": [
       "TransferFunction(array([1.]), array([1.]))"
      ]
     },
     "execution_count": 27,
     "metadata": {},
     "output_type": "execute_result"
    }
   ],
   "source": [
    "FOPDT_Sensor2 = control.series(G_Sensor2, Pade_Sensor2)\n",
    "FOPDT_Sensor2 "
   ]
  },
  {
   "cell_type": "markdown",
   "id": "d8bfd2b2",
   "metadata": {},
   "source": [
    "# Feedback Controller"
   ]
  },
  {
   "cell_type": "code",
   "execution_count": 28,
   "id": "9f25fbef",
   "metadata": {},
   "outputs": [],
   "source": [
    "Kc = 0.06\n",
    "ti = 416.43\n",
    "td = 20.81"
   ]
  },
  {
   "cell_type": "code",
   "execution_count": 29,
   "id": "41e082dc",
   "metadata": {},
   "outputs": [
    {
     "data": {
      "text/latex": [
       "$$\\frac{520 s^2 + 24.99 s + 0.06}{416.4 s}$$"
      ],
      "text/plain": [
       "TransferFunction(array([5.19954498e+02, 2.49858000e+01, 6.00000000e-02]), array([416.43,   0.  ]))"
      ]
     },
     "execution_count": 29,
     "metadata": {},
     "output_type": "execute_result"
    }
   ],
   "source": [
    "# Define transfer function of the PID Controller\n",
    "Feedback_Control = Kc*(1 + (1/(ti*s)) + (td*s))\n",
    "Feedback_Control"
   ]
  },
  {
   "cell_type": "markdown",
   "id": "3d3ac658",
   "metadata": {},
   "source": [
    "# Feedforward Controller"
   ]
  },
  {
   "cell_type": "markdown",
   "id": "e17b43a6",
   "metadata": {},
   "source": [
    "### Dynamic Feedforward Controller"
   ]
  },
  {
   "cell_type": "code",
   "execution_count": 30,
   "id": "048f38d3",
   "metadata": {
    "scrolled": true
   },
   "outputs": [
    {
     "data": {
      "text/latex": [
       "$$\\frac{-0.1778 s^3 - 0.006481 s^2 - 0.0001173 s - 3.086 \\times 10^{-7}}{12.44 s^3 + 0.4537 s^2 + 0.00821 s + 2.16 \\times 10^{-5}}$$"
      ],
      "text/plain": [
       "TransferFunction(array([-1.77777778e-01, -6.48148148e-03, -1.17283951e-04, -3.08641975e-07]), array([1.24444444e+01, 4.53703704e-01, 8.20987654e-03, 2.16049383e-05]))"
      ]
     },
     "execution_count": 30,
     "metadata": {},
     "output_type": "execute_result"
    }
   ],
   "source": [
    "Feedforward_Control = - FOPDT_disturbance/(FOPDT_Sensor2*FOPDT_Final_Element*FOPDT_Process)\n",
    "Feedforward_Control"
   ]
  },
  {
   "cell_type": "markdown",
   "id": "aec3a12a",
   "metadata": {},
   "source": [
    "### Static Feedforward Controller Gain"
   ]
  },
  {
   "cell_type": "markdown",
   "id": "5aa70ebf",
   "metadata": {},
   "source": [
    "FOPDT_Sensor2 = 1\n",
    "<br> FOPDT_Final_Element = 1 \n",
    "<br> Tau_disturbance = Tau_Process\n",
    "<br> Delay_disturbance = Delay_Process"
   ]
  },
  {
   "cell_type": "code",
   "execution_count": 31,
   "id": "3648e7b1",
   "metadata": {},
   "outputs": [
    {
     "data": {
      "text/plain": [
       "-0.014285714285714285"
      ]
     },
     "execution_count": 31,
     "metadata": {},
     "output_type": "execute_result"
    }
   ],
   "source": [
    "Feedforward_Control = -K_disturbance/Kp_Process\n",
    "Feedforward_Control"
   ]
  },
  {
   "cell_type": "markdown",
   "id": "e26396b8",
   "metadata": {},
   "source": [
    "## Termo de controle regulatório"
   ]
  },
  {
   "cell_type": "code",
   "execution_count": 32,
   "id": "05dbe058",
   "metadata": {},
   "outputs": [],
   "source": [
    "Tcr = (FOPDT_disturbance + FOPDT_Sensor2*Feedforward_Control*FOPDT_Final_Element*FOPDT_Process)/(1+FOPDT_Sensor1*Feedback_Control*FOPDT_Final_Element*FOPDT_Process)"
   ]
  },
  {
   "cell_type": "markdown",
   "id": "3afb7b45",
   "metadata": {},
   "source": [
    "### Degrau Unitário no Desvio de Carga (Controle Feedback + Feedfoward)"
   ]
  },
  {
   "cell_type": "code",
   "execution_count": 33,
   "id": "3f5f5f36",
   "metadata": {},
   "outputs": [],
   "source": [
    "t, y = control.step_response(Tcr, T=tmax)"
   ]
  },
  {
   "cell_type": "code",
   "execution_count": 34,
   "id": "b0738b3e",
   "metadata": {},
   "outputs": [
    {
     "data": {
      "image/png": "[encoded data removed]",
      "text/plain": [
       "<Figure size 640x480 with 1 Axes>"
      ]
     },
     "metadata": {},
     "output_type": "display_data"
    }
   ],
   "source": [
    "# Plot step response\n",
    "plt.figure(2)\n",
    "plt.plot(t, y)\n",
    "plt.xlabel('Time (s)')\n",
    "plt.ylabel('Output')\n",
    "plt.title('Degrau Unitário no Desvio de Carga (Controle Feedback + Feedfoward)')\n",
    "plt.grid()\n",
    "plt.show()"
   ]
  },
  {
   "cell_type": "markdown",
   "id": "8fad859d",
   "metadata": {},
   "source": [
    "##  Termo de controle supervisório"
   ]
  },
  {
   "cell_type": "code",
   "execution_count": 35,
   "id": "9887fcad",
   "metadata": {},
   "outputs": [],
   "source": [
    "Tcs = (Feedback_Control*FOPDT_Final_Element*FOPDT_Process)/(1+FOPDT_Sensor1*Feedback_Control*FOPDT_Final_Element*FOPDT_Process)"
   ]
  },
  {
   "cell_type": "code",
   "execution_count": 36,
   "id": "bf4da5b9",
   "metadata": {},
   "outputs": [],
   "source": [
    "t, y = control.step_response(Tcs, T=tmax)"
   ]
  },
  {
   "cell_type": "code",
   "execution_count": 37,
   "id": "0668e1af",
   "metadata": {},
   "outputs": [
    {
     "data": {
      "image/png": "[encoded data removed]",
      "text/plain": [
       "<Figure size 640x480 with 1 Axes>"
      ]
     },
     "metadata": {},
     "output_type": "display_data"
    }
   ],
   "source": [
    "# Plot step response\n",
    "plt.figure(3)\n",
    "plt.plot(t, y)\n",
    "plt.xlabel('Time (s)')\n",
    "plt.ylabel('Output')\n",
    "plt.title('Degrau Unitário no Setpoint (Controle Supervisório)')\n",
    "plt.grid()\n",
    "plt.show()"
   ]
  }
 ],
 "metadata": {
  "hide_input": false,
  "kernelspec": {
   "display_name": "Python 3 (ipykernel)",
   "language": "python",
   "name": "python3"
  },
  "language_info": {
   "codemirror_mode": {
    "name": "ipython",
    "version": 3
   },
   "file_extension": ".py",
   "mimetype": "text/x-python",
   "name": "python",
   "nbconvert_exporter": "python",
   "pygments_lexer": "ipython3",
   "version": "3.8.15"
  }
 },
 "nbformat": 4,
 "nbformat_minor": 5
}
